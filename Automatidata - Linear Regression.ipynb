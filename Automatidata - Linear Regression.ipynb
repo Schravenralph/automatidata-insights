{
  "cells": [
    {
      "cell_type": "markdown",
      "metadata": {
        "id": "view-in-github",
        "colab_type": "text"
      },
      "source": [
        "<a href=\"https://colab.research.google.com/github/Schravenralph/automatidata-insights/blob/main/Automatidata%20Course%205%20-%20Linear%20Regression.ipynb\" target=\"_parent\"><img src=\"https://colab.research.google.com/assets/colab-badge.svg\" alt=\"Open In Colab\"/></a>"
      ]
    },
    {
      "cell_type": "markdown",
      "metadata": {
        "id": "DtNBZFHO3M7n"
      },
      "source": [
        "# **Automatidata project**\n",
        "**Regression Analysis: Simplifying complex data relationships**"
      ]
    },
    {
      "cell_type": "markdown",
      "metadata": {
        "id": "kaOj1equPMAb"
      },
      "source": [
        "This project is a fictive business case based on a fictive data consulting firm called Automatidata.\n",
        "\n",
        "To set the stage: they recently hired me as the newest member of their data analytics team. Congratulations for me!\n",
        "\n",
        "Their newest client, the NYC Taxi and Limousine Commission (New York City TLC), wants the Automatidata team to build a multiple linear regression model to predict taxi fares using existing data that was collected over the course of a year. The team is getting closer to completing the project, having completed an initial plan of action, initial Python coding work, EDA, and A/B testing.\n",
        "\n",
        "The Automatidata team has reviewed the results of the A/B testing. Now it’s time to work on predicting the taxi fare amounts. You’ve impressed your Automatidata colleagues with your hard work and attention to detail. The data team believes that you are ready to build the regression model and update the client New York City TLC about your progress.\n",
        "\n"
      ]
    },
    {
      "cell_type": "markdown",
      "metadata": {
        "id": "rgSbVJvomcVa"
      },
      "source": [
        "# Building a multiple linear regression model\n",
        "\n",
        "**The purpose** of this project is to demostrate knowledge of EDA and a multiple linear regression model\n",
        "\n",
        "**The goal** is to build a multiple linear regression model and evaluate the model\n",
        "<br/>\n",
        "*This analysis has three parts:*\n",
        "\n",
        "**Part 1:** EDA & Checking Model Assumptions\n",
        "* What are some purposes of EDA before constructing a multiple linear regression model?\n",
        "\n",
        "**Part 2:** Model Building and evaluation\n",
        "* What resources do you find yourself using as you complete this stage?\n",
        "\n",
        "**Part 3:** Interpreting Model Results\n",
        "\n",
        "* What key insights emerged from your model(s)?\n",
        "\n",
        "* What business recommendations do you propose based on the models built?"
      ]
    },
    {
      "cell_type": "markdown",
      "metadata": {
        "id": "7KFOyc3JPSiN"
      },
      "source": [
        "# Build a multiple linear regression model"
      ]
    },
    {
      "cell_type": "markdown",
      "metadata": {
        "id": "D8qYlvkLQsf2"
      },
      "source": [
        "### Imports and loading\n",
        "Import the packages that are needed for building linear regression models."
      ]
    },
    {
      "cell_type": "code",
      "execution_count": 1,
      "metadata": {
        "id": "ccfeg6X6eOVZ"
      },
      "outputs": [],
      "source": [
        "# Data handling\n",
        "import numpy as np\n",
        "import pandas as pd\n",
        "\n",
        "# Model training and splitting\n",
        "from sklearn.model_selection import train_test_split\n",
        "from sklearn.linear_model import LogisticRegression\n",
        "from sklearn.linear_model import LinearRegression\n",
        "\n",
        "# Model evaluation\n",
        "from sklearn.preprocessing import OneHotEncoder\n",
        "import sklearn.metrics as metrics\n",
        "from sklearn.preprocessing import StandardScaler\n",
        "from sklearn.metrics import mean_absolute_error,r2_score,mean_squared_error\n",
        "\n",
        "# Visualization\n",
        "import matplotlib.pyplot as plt\n",
        "import seaborn as sns\n",
        "\n",
        "# Packages for date conversions for calculating trip durations\n",
        "from datetime import datetime\n",
        "from datetime import date\n",
        "from datetime import timedelta\n",
        "\n",
        "\n",
        "# Optional: Configure visualization style\n",
        "sns.set(style='whitegrid')"
      ]
    },
    {
      "cell_type": "markdown",
      "metadata": {
        "id": "dhSYPrzQ2lpH"
      },
      "source": [
        "**Note:** `Pandas` is used to load the NYC TLC dataset. As shown in this cell, the dataset has been automatically loaded in for you. You do not need to download the .csv file, or provide more code, in order to access the dataset and proceed with this lab. Please continue with this activity by completing the following instructions."
      ]
    },
    {
      "cell_type": "code",
      "execution_count": 7,
      "metadata": {
        "id": "TyR3sBUYJBO8"
      },
      "outputs": [],
      "source": [
        "# Load dataset into dataframe\n",
        "url = 'https://raw.githubusercontent.com//Schravenralph/automatidata-insights/main/2017_Yellow_Taxi_Trip_Data.csv'\n",
        "df = pd.read_csv(url)"
      ]
    },
    {
      "cell_type": "markdown",
      "metadata": {
        "id": "rIcDG2e66wt9"
      },
      "source": [
        "### Task 2a. Explore data with EDA\n",
        "\n",
        "Analyze and discover data, looking for correlations, missing data, outliers, and duplicates."
      ]
    },
    {
      "cell_type": "markdown",
      "metadata": {
        "id": "CLpoUCz1277k"
      },
      "source": [
        "Start with `.shape` and `.info()`."
      ]
    },
    {
      "cell_type": "code",
      "execution_count": 8,
      "metadata": {
        "id": "T4Ag-sZhWg6K",
        "outputId": "8969445a-db03-43d2-ffdd-8776350c7e7b",
        "colab": {
          "base_uri": "https://localhost:8080/"
        }
      },
      "outputs": [
        {
          "output_type": "stream",
          "name": "stdout",
          "text": [
            "shape: (22699, 18)\n",
            "\n",
            "<class 'pandas.core.frame.DataFrame'>\n",
            "RangeIndex: 22699 entries, 0 to 22698\n",
            "Data columns (total 18 columns):\n",
            " #   Column                 Non-Null Count  Dtype  \n",
            "---  ------                 --------------  -----  \n",
            " 0   Unnamed: 0             22699 non-null  int64  \n",
            " 1   VendorID               22699 non-null  int64  \n",
            " 2   tpep_pickup_datetime   22699 non-null  object \n",
            " 3   tpep_dropoff_datetime  22699 non-null  object \n",
            " 4   passenger_count        22699 non-null  int64  \n",
            " 5   trip_distance          22699 non-null  float64\n",
            " 6   RatecodeID             22699 non-null  int64  \n",
            " 7   store_and_fwd_flag     22699 non-null  object \n",
            " 8   PULocationID           22699 non-null  int64  \n",
            " 9   DOLocationID           22699 non-null  int64  \n",
            " 10  payment_type           22699 non-null  int64  \n",
            " 11  fare_amount            22699 non-null  float64\n",
            " 12  extra                  22699 non-null  float64\n",
            " 13  mta_tax                22699 non-null  float64\n",
            " 14  tip_amount             22699 non-null  float64\n",
            " 15  tolls_amount           22699 non-null  float64\n",
            " 16  improvement_surcharge  22699 non-null  float64\n",
            " 17  total_amount           22699 non-null  float64\n",
            "dtypes: float64(8), int64(7), object(3)\n",
            "memory usage: 3.1+ MB\n",
            "info: None\n"
          ]
        }
      ],
      "source": [
        "# Start with `.shape` and `.info()`\n",
        "\n",
        "print(f\"shape: {df.shape}\\n\")\n",
        "print(f\"info: {df.info()}\")\n"
      ]
    },
    {
      "cell_type": "markdown",
      "metadata": {
        "id": "SWLHv_h_3Hcf"
      },
      "source": [
        "Check for missing data and duplicates using `.isna()` and `.drop_duplicates()`."
      ]
    },
    {
      "cell_type": "code",
      "execution_count": 9,
      "metadata": {
        "id": "3QZZIxxi3OV3",
        "outputId": "41701329-bcb5-48de-a9f6-3e97e4f75a94",
        "colab": {
          "base_uri": "https://localhost:8080/"
        }
      },
      "outputs": [
        {
          "output_type": "stream",
          "name": "stdout",
          "text": [
            "Shape of dataframe: (22699, 18)\n",
            "Shape of dataframe with duplicates dropped: (22699, 18)\n",
            "Shape of dataframe with NaN values dropped: (22699, 18)\n"
          ]
        }
      ],
      "source": [
        "# Check for missing data and duplicates using .isna() and .drop_duplicates()\n",
        "\n",
        "# Check for duplicates\n",
        "print('Shape of dataframe:', df.shape)\n",
        "df = df.drop_duplicates()\n",
        "print('Shape of dataframe with duplicates dropped:', df.shape)\n",
        "\n",
        "# Check for missing data\n",
        "df = df.dropna(axis=1)\n",
        "print(f\"Shape of dataframe with NaN values dropped: {df.shape}\")"
      ]
    },
    {
      "cell_type": "markdown",
      "metadata": {
        "id": "WXWAlPTY9iLK"
      },
      "source": [
        "Use `.describe()`."
      ]
    },
    {
      "cell_type": "code",
      "execution_count": null,
      "metadata": {
        "id": "2O3b9H9B9nwk",
        "outputId": "17ac079c-ea62-4a74-b27d-b3a4cac975d4"
      },
      "outputs": [
        {
          "data": {
            "text/html": [
              "<div>\n",
              "<style scoped>\n",
              "    .dataframe tbody tr th:only-of-type {\n",
              "        vertical-align: middle;\n",
              "    }\n",
              "\n",
              "    .dataframe tbody tr th {\n",
              "        vertical-align: top;\n",
              "    }\n",
              "\n",
              "    .dataframe thead th {\n",
              "        text-align: right;\n",
              "    }\n",
              "</style>\n",
              "<table border=\"1\" class=\"dataframe\">\n",
              "  <thead>\n",
              "    <tr style=\"text-align: right;\">\n",
              "      <th></th>\n",
              "      <th>Unnamed: 0</th>\n",
              "      <th>VendorID</th>\n",
              "      <th>passenger_count</th>\n",
              "      <th>trip_distance</th>\n",
              "      <th>RatecodeID</th>\n",
              "      <th>PULocationID</th>\n",
              "      <th>DOLocationID</th>\n",
              "      <th>payment_type</th>\n",
              "      <th>fare_amount</th>\n",
              "      <th>extra</th>\n",
              "      <th>mta_tax</th>\n",
              "      <th>tip_amount</th>\n",
              "      <th>tolls_amount</th>\n",
              "      <th>improvement_surcharge</th>\n",
              "      <th>total_amount</th>\n",
              "    </tr>\n",
              "  </thead>\n",
              "  <tbody>\n",
              "    <tr>\n",
              "      <th>count</th>\n",
              "      <td>2.269900e+04</td>\n",
              "      <td>22699.000000</td>\n",
              "      <td>22699.000000</td>\n",
              "      <td>22699.000000</td>\n",
              "      <td>22699.000000</td>\n",
              "      <td>22699.000000</td>\n",
              "      <td>22699.000000</td>\n",
              "      <td>22699.000000</td>\n",
              "      <td>22699.000000</td>\n",
              "      <td>22699.000000</td>\n",
              "      <td>22699.000000</td>\n",
              "      <td>22699.000000</td>\n",
              "      <td>22699.000000</td>\n",
              "      <td>22699.000000</td>\n",
              "      <td>22699.000000</td>\n",
              "    </tr>\n",
              "    <tr>\n",
              "      <th>mean</th>\n",
              "      <td>5.675849e+07</td>\n",
              "      <td>1.556236</td>\n",
              "      <td>1.642319</td>\n",
              "      <td>2.913313</td>\n",
              "      <td>1.043394</td>\n",
              "      <td>162.412353</td>\n",
              "      <td>161.527997</td>\n",
              "      <td>1.336887</td>\n",
              "      <td>13.026629</td>\n",
              "      <td>0.333275</td>\n",
              "      <td>0.497445</td>\n",
              "      <td>1.835781</td>\n",
              "      <td>0.312542</td>\n",
              "      <td>0.299551</td>\n",
              "      <td>16.310502</td>\n",
              "    </tr>\n",
              "    <tr>\n",
              "      <th>std</th>\n",
              "      <td>3.274493e+07</td>\n",
              "      <td>0.496838</td>\n",
              "      <td>1.285231</td>\n",
              "      <td>3.653171</td>\n",
              "      <td>0.708391</td>\n",
              "      <td>66.633373</td>\n",
              "      <td>70.139691</td>\n",
              "      <td>0.496211</td>\n",
              "      <td>13.243791</td>\n",
              "      <td>0.463097</td>\n",
              "      <td>0.039465</td>\n",
              "      <td>2.800626</td>\n",
              "      <td>1.399212</td>\n",
              "      <td>0.015673</td>\n",
              "      <td>16.097295</td>\n",
              "    </tr>\n",
              "    <tr>\n",
              "      <th>min</th>\n",
              "      <td>1.212700e+04</td>\n",
              "      <td>1.000000</td>\n",
              "      <td>0.000000</td>\n",
              "      <td>0.000000</td>\n",
              "      <td>1.000000</td>\n",
              "      <td>1.000000</td>\n",
              "      <td>1.000000</td>\n",
              "      <td>1.000000</td>\n",
              "      <td>-120.000000</td>\n",
              "      <td>-1.000000</td>\n",
              "      <td>-0.500000</td>\n",
              "      <td>0.000000</td>\n",
              "      <td>0.000000</td>\n",
              "      <td>-0.300000</td>\n",
              "      <td>-120.300000</td>\n",
              "    </tr>\n",
              "    <tr>\n",
              "      <th>25%</th>\n",
              "      <td>2.852056e+07</td>\n",
              "      <td>1.000000</td>\n",
              "      <td>1.000000</td>\n",
              "      <td>0.990000</td>\n",
              "      <td>1.000000</td>\n",
              "      <td>114.000000</td>\n",
              "      <td>112.000000</td>\n",
              "      <td>1.000000</td>\n",
              "      <td>6.500000</td>\n",
              "      <td>0.000000</td>\n",
              "      <td>0.500000</td>\n",
              "      <td>0.000000</td>\n",
              "      <td>0.000000</td>\n",
              "      <td>0.300000</td>\n",
              "      <td>8.750000</td>\n",
              "    </tr>\n",
              "    <tr>\n",
              "      <th>50%</th>\n",
              "      <td>5.673150e+07</td>\n",
              "      <td>2.000000</td>\n",
              "      <td>1.000000</td>\n",
              "      <td>1.610000</td>\n",
              "      <td>1.000000</td>\n",
              "      <td>162.000000</td>\n",
              "      <td>162.000000</td>\n",
              "      <td>1.000000</td>\n",
              "      <td>9.500000</td>\n",
              "      <td>0.000000</td>\n",
              "      <td>0.500000</td>\n",
              "      <td>1.350000</td>\n",
              "      <td>0.000000</td>\n",
              "      <td>0.300000</td>\n",
              "      <td>11.800000</td>\n",
              "    </tr>\n",
              "    <tr>\n",
              "      <th>75%</th>\n",
              "      <td>8.537452e+07</td>\n",
              "      <td>2.000000</td>\n",
              "      <td>2.000000</td>\n",
              "      <td>3.060000</td>\n",
              "      <td>1.000000</td>\n",
              "      <td>233.000000</td>\n",
              "      <td>233.000000</td>\n",
              "      <td>2.000000</td>\n",
              "      <td>14.500000</td>\n",
              "      <td>0.500000</td>\n",
              "      <td>0.500000</td>\n",
              "      <td>2.450000</td>\n",
              "      <td>0.000000</td>\n",
              "      <td>0.300000</td>\n",
              "      <td>17.800000</td>\n",
              "    </tr>\n",
              "    <tr>\n",
              "      <th>max</th>\n",
              "      <td>1.134863e+08</td>\n",
              "      <td>2.000000</td>\n",
              "      <td>6.000000</td>\n",
              "      <td>33.960000</td>\n",
              "      <td>99.000000</td>\n",
              "      <td>265.000000</td>\n",
              "      <td>265.000000</td>\n",
              "      <td>4.000000</td>\n",
              "      <td>999.990000</td>\n",
              "      <td>4.500000</td>\n",
              "      <td>0.500000</td>\n",
              "      <td>200.000000</td>\n",
              "      <td>19.100000</td>\n",
              "      <td>0.300000</td>\n",
              "      <td>1200.290000</td>\n",
              "    </tr>\n",
              "  </tbody>\n",
              "</table>\n",
              "</div>"
            ],
            "text/plain": [
              "         Unnamed: 0      VendorID  passenger_count  trip_distance  \\\n",
              "count  2.269900e+04  22699.000000     22699.000000   22699.000000   \n",
              "mean   5.675849e+07      1.556236         1.642319       2.913313   \n",
              "std    3.274493e+07      0.496838         1.285231       3.653171   \n",
              "min    1.212700e+04      1.000000         0.000000       0.000000   \n",
              "25%    2.852056e+07      1.000000         1.000000       0.990000   \n",
              "50%    5.673150e+07      2.000000         1.000000       1.610000   \n",
              "75%    8.537452e+07      2.000000         2.000000       3.060000   \n",
              "max    1.134863e+08      2.000000         6.000000      33.960000   \n",
              "\n",
              "         RatecodeID  PULocationID  DOLocationID  payment_type   fare_amount  \\\n",
              "count  22699.000000  22699.000000  22699.000000  22699.000000  22699.000000   \n",
              "mean       1.043394    162.412353    161.527997      1.336887     13.026629   \n",
              "std        0.708391     66.633373     70.139691      0.496211     13.243791   \n",
              "min        1.000000      1.000000      1.000000      1.000000   -120.000000   \n",
              "25%        1.000000    114.000000    112.000000      1.000000      6.500000   \n",
              "50%        1.000000    162.000000    162.000000      1.000000      9.500000   \n",
              "75%        1.000000    233.000000    233.000000      2.000000     14.500000   \n",
              "max       99.000000    265.000000    265.000000      4.000000    999.990000   \n",
              "\n",
              "              extra       mta_tax    tip_amount  tolls_amount  \\\n",
              "count  22699.000000  22699.000000  22699.000000  22699.000000   \n",
              "mean       0.333275      0.497445      1.835781      0.312542   \n",
              "std        0.463097      0.039465      2.800626      1.399212   \n",
              "min       -1.000000     -0.500000      0.000000      0.000000   \n",
              "25%        0.000000      0.500000      0.000000      0.000000   \n",
              "50%        0.000000      0.500000      1.350000      0.000000   \n",
              "75%        0.500000      0.500000      2.450000      0.000000   \n",
              "max        4.500000      0.500000    200.000000     19.100000   \n",
              "\n",
              "       improvement_surcharge  total_amount  \n",
              "count           22699.000000  22699.000000  \n",
              "mean                0.299551     16.310502  \n",
              "std                 0.015673     16.097295  \n",
              "min                -0.300000   -120.300000  \n",
              "25%                 0.300000      8.750000  \n",
              "50%                 0.300000     11.800000  \n",
              "75%                 0.300000     17.800000  \n",
              "max                 0.300000   1200.290000  "
            ]
          },
          "execution_count": 13,
          "metadata": {},
          "output_type": "execute_result"
        }
      ],
      "source": [
        "# Use .describe()\n",
        "### YOUR CODE HERE ###\n",
        "df.describe()"
      ]
    },
    {
      "cell_type": "markdown",
      "metadata": {
        "id": "iXhaBfP_WOSR"
      },
      "source": [
        "### Convert pickup & dropoff columns to datetime\n"
      ]
    },
    {
      "cell_type": "code",
      "execution_count": null,
      "metadata": {
        "id": "TbHu-SSInJCX",
        "outputId": "a8571182-ec03-4fdd-f103-c1d8fa817b1e"
      },
      "outputs": [
        {
          "data": {
            "text/plain": [
              "'03/25/2017 9:09:47 AM'"
            ]
          },
          "execution_count": 14,
          "metadata": {},
          "output_type": "execute_result"
        }
      ],
      "source": [
        "# Check the format of the data\n",
        "df['tpep_dropoff_datetime'][0]"
      ]
    },
    {
      "cell_type": "code",
      "execution_count": null,
      "metadata": {
        "id": "h5L6OdYPqV0N",
        "outputId": "320ed1c8-e598-4f02-b297-ded5212cdfd4"
      },
      "outputs": [
        {
          "name": "stdout",
          "output_type": "stream",
          "text": [
            "Data type of tpep_dropoff_datetime: datetime64[ns]\n",
            "Data type of tpep_pickup_datetime: datetime64[ns]\n"
          ]
        },
        {
          "data": {
            "text/html": [
              "<div>\n",
              "<style scoped>\n",
              "    .dataframe tbody tr th:only-of-type {\n",
              "        vertical-align: middle;\n",
              "    }\n",
              "\n",
              "    .dataframe tbody tr th {\n",
              "        vertical-align: top;\n",
              "    }\n",
              "\n",
              "    .dataframe thead th {\n",
              "        text-align: right;\n",
              "    }\n",
              "</style>\n",
              "<table border=\"1\" class=\"dataframe\">\n",
              "  <thead>\n",
              "    <tr style=\"text-align: right;\">\n",
              "      <th></th>\n",
              "      <th>Unnamed: 0</th>\n",
              "      <th>VendorID</th>\n",
              "      <th>tpep_pickup_datetime</th>\n",
              "      <th>tpep_dropoff_datetime</th>\n",
              "      <th>passenger_count</th>\n",
              "      <th>trip_distance</th>\n",
              "      <th>RatecodeID</th>\n",
              "      <th>store_and_fwd_flag</th>\n",
              "      <th>PULocationID</th>\n",
              "      <th>DOLocationID</th>\n",
              "      <th>payment_type</th>\n",
              "      <th>fare_amount</th>\n",
              "      <th>extra</th>\n",
              "      <th>mta_tax</th>\n",
              "      <th>tip_amount</th>\n",
              "      <th>tolls_amount</th>\n",
              "      <th>improvement_surcharge</th>\n",
              "      <th>total_amount</th>\n",
              "    </tr>\n",
              "  </thead>\n",
              "  <tbody>\n",
              "    <tr>\n",
              "      <th>0</th>\n",
              "      <td>24870114</td>\n",
              "      <td>2</td>\n",
              "      <td>2017-03-25 08:55:43</td>\n",
              "      <td>2017-03-25 09:09:47</td>\n",
              "      <td>6</td>\n",
              "      <td>3.34</td>\n",
              "      <td>1</td>\n",
              "      <td>N</td>\n",
              "      <td>100</td>\n",
              "      <td>231</td>\n",
              "      <td>1</td>\n",
              "      <td>13.0</td>\n",
              "      <td>0.0</td>\n",
              "      <td>0.5</td>\n",
              "      <td>2.76</td>\n",
              "      <td>0.0</td>\n",
              "      <td>0.3</td>\n",
              "      <td>16.56</td>\n",
              "    </tr>\n",
              "    <tr>\n",
              "      <th>1</th>\n",
              "      <td>35634249</td>\n",
              "      <td>1</td>\n",
              "      <td>2017-04-11 14:53:28</td>\n",
              "      <td>2017-04-11 15:19:58</td>\n",
              "      <td>1</td>\n",
              "      <td>1.80</td>\n",
              "      <td>1</td>\n",
              "      <td>N</td>\n",
              "      <td>186</td>\n",
              "      <td>43</td>\n",
              "      <td>1</td>\n",
              "      <td>16.0</td>\n",
              "      <td>0.0</td>\n",
              "      <td>0.5</td>\n",
              "      <td>4.00</td>\n",
              "      <td>0.0</td>\n",
              "      <td>0.3</td>\n",
              "      <td>20.80</td>\n",
              "    </tr>\n",
              "    <tr>\n",
              "      <th>2</th>\n",
              "      <td>106203690</td>\n",
              "      <td>1</td>\n",
              "      <td>2017-12-15 07:26:56</td>\n",
              "      <td>2017-12-15 07:34:08</td>\n",
              "      <td>1</td>\n",
              "      <td>1.00</td>\n",
              "      <td>1</td>\n",
              "      <td>N</td>\n",
              "      <td>262</td>\n",
              "      <td>236</td>\n",
              "      <td>1</td>\n",
              "      <td>6.5</td>\n",
              "      <td>0.0</td>\n",
              "      <td>0.5</td>\n",
              "      <td>1.45</td>\n",
              "      <td>0.0</td>\n",
              "      <td>0.3</td>\n",
              "      <td>8.75</td>\n",
              "    </tr>\n",
              "  </tbody>\n",
              "</table>\n",
              "</div>"
            ],
            "text/plain": [
              "   Unnamed: 0  VendorID tpep_pickup_datetime tpep_dropoff_datetime  \\\n",
              "0    24870114         2  2017-03-25 08:55:43   2017-03-25 09:09:47   \n",
              "1    35634249         1  2017-04-11 14:53:28   2017-04-11 15:19:58   \n",
              "2   106203690         1  2017-12-15 07:26:56   2017-12-15 07:34:08   \n",
              "\n",
              "   passenger_count  trip_distance  RatecodeID store_and_fwd_flag  \\\n",
              "0                6           3.34           1                  N   \n",
              "1                1           1.80           1                  N   \n",
              "2                1           1.00           1                  N   \n",
              "\n",
              "   PULocationID  DOLocationID  payment_type  fare_amount  extra  mta_tax  \\\n",
              "0           100           231             1         13.0    0.0      0.5   \n",
              "1           186            43             1         16.0    0.0      0.5   \n",
              "2           262           236             1          6.5    0.0      0.5   \n",
              "\n",
              "   tip_amount  tolls_amount  improvement_surcharge  total_amount  \n",
              "0        2.76           0.0                    0.3         16.56  \n",
              "1        4.00           0.0                    0.3         20.80  \n",
              "2        1.45           0.0                    0.3          8.75  "
            ]
          },
          "execution_count": 17,
          "metadata": {},
          "output_type": "execute_result"
        }
      ],
      "source": [
        "# Convert datetime columns to datetime\n",
        "date_time_columns = ['tpep_dropoff_datetime', 'tpep_pickup_datetime']\n",
        "\n",
        "for date_time_column in date_time_columns:\n",
        "    df[date_time_column] = pd.to_datetime(df[date_time_column], format='%m/%d/%Y %I:%M:%S %p')\n",
        "    print(f\"Data type of {date_time_column}: {df[date_time_column].dtype}\")\n",
        "\n",
        "df.head(3)"
      ]
    },
    {
      "cell_type": "markdown",
      "metadata": {
        "id": "KlF7ZNSyW0yV"
      },
      "source": [
        "### Create duration column"
      ]
    },
    {
      "cell_type": "markdown",
      "metadata": {
        "id": "w1v_Y1uunbsx"
      },
      "source": [
        "Create a new column called `duration` that represents the total number of minutes that each taxi ride took."
      ]
    },
    {
      "cell_type": "code",
      "execution_count": null,
      "metadata": {
        "id": "suC4LJFPMPCo",
        "outputId": "3b5beabf-8586-4e29-9b62-fe44562bf5d3"
      },
      "outputs": [
        {
          "data": {
            "text/plain": [
              "0    14.066667\n",
              "1    26.500000\n",
              "2     7.200000\n",
              "3    30.250000\n",
              "4    16.716667\n",
              "Name: duration, dtype: float64"
            ]
          },
          "execution_count": 27,
          "metadata": {},
          "output_type": "execute_result"
        }
      ],
      "source": [
        "# Create `duration` column\n",
        "df['duration'] = (df[date_time_columns[0]] - df[date_time_columns[1]])/np.timedelta64(1,'m')\n",
        "\n",
        "df.duration.head(5)"
      ]
    },
    {
      "cell_type": "markdown",
      "metadata": {
        "id": "7dcytBKhiGAr"
      },
      "source": [
        "### Outliers\n",
        "\n",
        "Call `df.info()` to inspect the columns and decide which ones to check for outliers."
      ]
    },
    {
      "cell_type": "code",
      "execution_count": null,
      "metadata": {
        "id": "W5bCdL5SSfg1",
        "outputId": "993beb31-fa2b-4059-fd9a-2d981557bbd8"
      },
      "outputs": [
        {
          "name": "stdout",
          "output_type": "stream",
          "text": [
            "<class 'pandas.core.frame.DataFrame'>\n",
            "Int64Index: 22699 entries, 0 to 22698\n",
            "Data columns (total 19 columns):\n",
            " #   Column                 Non-Null Count  Dtype         \n",
            "---  ------                 --------------  -----         \n",
            " 0   Unnamed: 0             22699 non-null  int64         \n",
            " 1   VendorID               22699 non-null  int64         \n",
            " 2   tpep_pickup_datetime   22699 non-null  datetime64[ns]\n",
            " 3   tpep_dropoff_datetime  22699 non-null  datetime64[ns]\n",
            " 4   passenger_count        22699 non-null  int64         \n",
            " 5   trip_distance          22699 non-null  float64       \n",
            " 6   RatecodeID             22699 non-null  int64         \n",
            " 7   store_and_fwd_flag     22699 non-null  object        \n",
            " 8   PULocationID           22699 non-null  int64         \n",
            " 9   DOLocationID           22699 non-null  int64         \n",
            " 10  payment_type           22699 non-null  int64         \n",
            " 11  fare_amount            22699 non-null  float64       \n",
            " 12  extra                  22699 non-null  float64       \n",
            " 13  mta_tax                22699 non-null  float64       \n",
            " 14  tip_amount             22699 non-null  float64       \n",
            " 15  tolls_amount           22699 non-null  float64       \n",
            " 16  improvement_surcharge  22699 non-null  float64       \n",
            " 17  total_amount           22699 non-null  float64       \n",
            " 18  duration               22699 non-null  float64       \n",
            "dtypes: datetime64[ns](2), float64(9), int64(7), object(1)\n",
            "memory usage: 4.0+ MB\n"
          ]
        }
      ],
      "source": [
        "### YOUR CODE HERE ###\n",
        "\n",
        "df.info()\n"
      ]
    },
    {
      "cell_type": "markdown",
      "metadata": {
        "id": "gS7VR2S0izZE"
      },
      "source": [
        "Keeping in mind that many of the features will not be used to fit your model, the most important columns to check for outliers are likely to be:\n",
        "* `trip_distance`\n",
        "* `fare_amount`\n",
        "* `duration`\n",
        "\n"
      ]
    },
    {
      "cell_type": "markdown",
      "metadata": {
        "id": "Vtj4iAJMk9Vc"
      },
      "source": [
        "### Box plots\n",
        "\n",
        "Plot a box plot for each feature: `trip_distance`, `fare_amount`, `duration`."
      ]
    },
    {
      "cell_type": "code",
      "execution_count": null,
      "metadata": {
        "id": "KCEzE-gwL5gq",
        "outputId": "bf1366c5-78aa-492a-ca77-aba30584a035"
      },
      "outputs": [
        {
          "data": {
            "image/png": "[encoded data removed]",
            "text/plain": [
              "<Figure size 1080x144 with 3 Axes>"
            ]
          },
          "metadata": {},
          "output_type": "display_data"
        }
      ],
      "source": [
        "# Create subplots\n",
        "fig, axes = plt.subplots(1, 3, figsize=(15, 2))\n",
        "\n",
        "# Set title\n",
        "fig.suptitle('Boxplots for outlier detection')\n",
        "\n",
        "# Create Seaborn boxplots for all relevant columns\n",
        "sns.boxplot(ax=axes[0], x=df['trip_distance'])\n",
        "sns.boxplot(ax=axes[1], x=df['fare_amount'])\n",
        "sns.boxplot(ax=axes[2], x=df['duration'])\n",
        "\n",
        "# Show all subplots\n",
        "plt.show();"
      ]
    },
    {
      "cell_type": "markdown",
      "metadata": {
        "id": "pqcGiHLa4TvP"
      },
      "source": [
        "**Questions:**\n",
        "1. Which variable(s) contains outliers?\n",
        "\n",
        "2. Are the values in the `trip_distance` column unbelievable?\n",
        "\n",
        "3. What about the lower end? Do distances, fares, and durations of 0 (or negative values) make sense?"
      ]
    },
    {
      "cell_type": "markdown",
      "metadata": {
        "id": "FetTHatPoR6n"
      },
      "source": [
        "***Answers:***\n",
        "\n",
        "1. All variables contain outliers.\n",
        "2. The values are believable, as they all lie within a distance that can be covered with one tank of gas.\n",
        "3. They might need inquiry but they can make sense. We can check with Automidata, for example, how cancelling a ride is handled. Perhaps the protocol is to insert zero-values in such a case."
      ]
    },
    {
      "cell_type": "markdown",
      "metadata": {
        "id": "ldWLSQpVItFz"
      },
      "source": [
        "### Imputations"
      ]
    },
    {
      "cell_type": "markdown",
      "metadata": {
        "id": "yiUmd4L3ItFz"
      },
      "source": [
        "#### `trip_distance` outliers\n",
        "\n",
        "You know from the summary statistics that there are trip distances of 0. Are these reflective of erroneous data, or are they very short trips that get rounded down?\n",
        "\n",
        "To check, sort the column values, eliminate duplicates, and inspect the least 10 values. Are they rounded values or precise values?"
      ]
    },
    {
      "cell_type": "code",
      "execution_count": null,
      "metadata": {
        "id": "8rulHw4UItFz",
        "outputId": "09f1bd05-2b7c-414f-ecb6-3fb7df61c777"
      },
      "outputs": [
        {
          "data": {
            "text/plain": [
              "[0.0, 0.01, 0.02, 0.03, 0.04, 0.05, 0.06, 0.07, 0.08, 0.09]"
            ]
          },
          "execution_count": 31,
          "metadata": {},
          "output_type": "execute_result"
        }
      ],
      "source": [
        "# Are trip distances of 0 bad data or very short trips rounded down?\n",
        "sorted(set(df['trip_distance']))[:10]"
      ]
    },
    {
      "cell_type": "markdown",
      "metadata": {
        "id": "8pHsUfnLItF0"
      },
      "source": [
        "The distances are captured with a high degree of precision. However, it might be possible for trips to have distances of zero if a passenger summoned a taxi and then changed their mind. Besides, are there enough zero values in the data to pose a problem?\n",
        "\n",
        "Calculate the count of rides where the `trip_distance` is zero."
      ]
    },
    {
      "cell_type": "code",
      "execution_count": null,
      "metadata": {
        "id": "bI4akP54ItF0",
        "outputId": "a0a9b08c-8113-4d59-d7eb-08c11ce8083e"
      },
      "outputs": [
        {
          "data": {
            "text/plain": [
              "148"
            ]
          },
          "execution_count": 34,
          "metadata": {},
          "output_type": "execute_result"
        }
      ],
      "source": [
        "(df['trip_distance'] == 0).sum()\n",
        "\n"
      ]
    },
    {
      "cell_type": "markdown",
      "metadata": {
        "id": "o56YOEkoItF0"
      },
      "source": [
        "#### `fare_amount` outliers"
      ]
    },
    {
      "cell_type": "code",
      "execution_count": null,
      "metadata": {
        "id": "n2IbrQrAItF5",
        "outputId": "547ce2e7-702b-42ed-e3f5-adc27d151332"
      },
      "outputs": [
        {
          "name": "stdout",
          "output_type": "stream",
          "text": [
            "Lowest 10 values: [-120.0, -4.5, -4.0, -3.5, -3.0, -2.5, 0.0, 0.01, 1.0, 2.5]\n",
            "Highest 10 values: [120.0, 131.0, 140.0, 150.0, 152.0, 175.0, 200.0, 200.01, 450.0, 999.99]\n"
          ]
        }
      ],
      "source": [
        "print(f\"Lowest 10 values: {sorted(set(df.fare_amount))[:10]}\")\n",
        "print(f\"Highest 10 values: {sorted(set(df.fare_amount))[-10:]}\")"
      ]
    },
    {
      "cell_type": "markdown",
      "metadata": {
        "id": "jpsPo2mBItF5"
      },
      "source": [
        "**Question:** What do you notice about the values in the `fare_amount` column?\n",
        "\n",
        "Impute values less than $0 with `0`."
      ]
    },
    {
      "cell_type": "code",
      "execution_count": null,
      "metadata": {
        "id": "EnIOGS1MItF5",
        "outputId": "bf44f058-f6bb-4a38-f952-464b1bd4752d"
      },
      "outputs": [
        {
          "name": "stdout",
          "output_type": "stream",
          "text": [
            "Lowest 10 values: [0.0, 0.01, 1.0, 2.5, 3.0, 3.5, 4.0, 4.5, 4.8, 5.0]\n"
          ]
        }
      ],
      "source": [
        "# Impute values less than $0 with 0\n",
        "for i in range(len(df.fare_amount)):\n",
        "    if df.fare_amount[i] < 0:\n",
        "        df.fare_amount[i] = 0\n",
        "\n",
        "print(f\"Lowest 10 values: {sorted(set(df.fare_amount))[:10]}\")"
      ]
    },
    {
      "cell_type": "markdown",
      "metadata": {
        "id": "aMMLmBWeItF5"
      },
      "source": [
        "Now impute the maximum value as `Q3 + (6 * IQR)`."
      ]
    },
    {
      "cell_type": "code",
      "execution_count": null,
      "metadata": {
        "id": "tw60pUvyItF5"
      },
      "outputs": [],
      "source": [
        "def outlier_imputer(column_list, iqr_factor):\n",
        "    '''\n",
        "    Impute values with an upper limit of Q3 + iqr_factor * IQR and a lower limit of 0 .\n",
        "\n",
        "    Arguments:\n",
        "        column_list: A list of columns to iterate over\n",
        "        iqr_factor: A number representing x in the formula:\n",
        "                    Q3 + (x * IQR). Used to determine maximum threshold,\n",
        "                    beyond which a point is considered an outlier.\n",
        "\n",
        "    The IQR is computed for each column in column_list and values exceeding\n",
        "    the upper threshold for each column are imputed with the upper threshold value.\n",
        "    '''\n",
        "    for col in column_list:\n",
        "        # Reassign minimum to zero\n",
        "        df.loc[df[col] < 0, col] = 0\n",
        "\n",
        "        # Calculate upper threshold\n",
        "        q1 = df[col].quantile(0.25)\n",
        "        q3 = df[col].quantile(0.75)\n",
        "        iqr = q3 - q1\n",
        "        upper_threshold = q3 + (iqr_factor * iqr)\n",
        "        print(col)\n",
        "        print('q3:', q3)\n",
        "        print('upper_threshold:', upper_threshold)\n",
        "\n",
        "        # Reassign values > threshold to threshold\n",
        "        df.loc[df[col] > upper_threshold, col] = upper_threshold\n",
        "        print(df[col].describe())\n",
        "        print()"
      ]
    },
    {
      "cell_type": "markdown",
      "metadata": {
        "id": "oBsCamqAItF6"
      },
      "source": [
        "#### `duration` outliers\n"
      ]
    },
    {
      "cell_type": "code",
      "execution_count": null,
      "metadata": {
        "id": "sOlfD1g3ItF6",
        "outputId": "58e3b1ff-0775-436d-cfdc-6be739f4242b"
      },
      "outputs": [
        {
          "data": {
            "text/plain": [
              "count    22699.000000\n",
              "mean        17.013777\n",
              "std         61.996482\n",
              "min        -16.983333\n",
              "25%          6.650000\n",
              "50%         11.183333\n",
              "75%         18.383333\n",
              "max       1439.550000\n",
              "Name: duration, dtype: float64"
            ]
          },
          "execution_count": 44,
          "metadata": {},
          "output_type": "execute_result"
        }
      ],
      "source": [
        "# Call .describe() for duration outliers\n",
        "df.duration.describe()"
      ]
    },
    {
      "cell_type": "markdown",
      "metadata": {
        "id": "_B1F90A4ItF6"
      },
      "source": [
        "The `duration` column has problematic values at both the lower and upper extremities.\n",
        "\n",
        "* **Low values:** There should be no values that represent negative time. Impute all negative durations with `0`.\n",
        "\n",
        "* **High values:** Impute high values the same way you imputed the high-end outliers for fares: `Q3 + (6 * IQR)`."
      ]
    },
    {
      "cell_type": "code",
      "execution_count": null,
      "metadata": {
        "id": "iyihWW4LItF6"
      },
      "outputs": [],
      "source": [
        "# Impute a 0 for any negative values\n",
        "\n",
        "df.loc[df['duration'] < 0, 'duration'] = 0"
      ]
    },
    {
      "cell_type": "code",
      "execution_count": null,
      "metadata": {
        "id": "SHmCfqebItF6",
        "outputId": "f3860c48-bdc1-4309-ec72-7782bdbc5588"
      },
      "outputs": [
        {
          "name": "stdout",
          "output_type": "stream",
          "text": [
            "fare_amount\n",
            "q3: 14.5\n",
            "upper_threshold: 62.5\n",
            "count    22699.000000\n",
            "mean        12.897913\n",
            "std         10.541137\n",
            "min          0.000000\n",
            "25%          6.500000\n",
            "50%          9.500000\n",
            "75%         14.500000\n",
            "max         62.500000\n",
            "Name: fare_amount, dtype: float64\n",
            "\n",
            "duration\n",
            "q3: 18.383333333333333\n",
            "upper_threshold: 88.78333333333333\n",
            "count    22699.000000\n",
            "mean        14.460555\n",
            "std         11.947043\n",
            "min          0.000000\n",
            "25%          6.650000\n",
            "50%         11.183333\n",
            "75%         18.383333\n",
            "max         88.783333\n",
            "Name: duration, dtype: float64\n",
            "\n"
          ]
        }
      ],
      "source": [
        "# Impute the high outliers\n",
        "outlier_imputer(['fare_amount'], 6)\n",
        "outlier_imputer(['duration'], 6)"
      ]
    },
    {
      "cell_type": "markdown",
      "metadata": {
        "id": "NiVQWlwwItF6"
      },
      "source": [
        "### Feature engineering"
      ]
    },
    {
      "cell_type": "markdown",
      "metadata": {
        "id": "HaAqC-WyItF7"
      },
      "source": [
        "#### Create `mean_distance` column\n",
        "\n",
        "When deployed, the model will not know the duration of a trip until after the trip occurs, so you cannot train a model that uses this feature. However, you can use the statistics of trips you *do* know to generalize about ones you do not know.\n",
        "\n",
        "In this step, create a column called `mean_distance` that captures the mean distance for each group of trips that share pickup and dropoff points.\n",
        "\n",
        "For example, if your data were:\n",
        "\n",
        "|Trip|Start|End|Distance|\n",
        "|--: |:---:|:-:|    |\n",
        "| 1  | A   | B | 1  |\n",
        "| 2  | C   | D | 2  |\n",
        "| 3  | A   | B |1.5 |\n",
        "| 4  | D   | C | 3  |\n",
        "\n",
        "The results should be:\n",
        "```\n",
        "A -> B: 1.25 miles\n",
        "C -> D: 2 miles\n",
        "D -> C: 3 miles\n",
        "```\n",
        "\n",
        "Notice that C -> D is not the same as D -> C. All trips that share a unique pair of start and end points get grouped and averaged.\n",
        "\n",
        "Then, a new column `mean_distance` will be added where the value at each row is the average for all trips with those pickup and dropoff locations:\n",
        "\n",
        "|Trip|Start|End|Distance|mean_distance|\n",
        "|--: |:---:|:-:|  :--   |:--   |\n",
        "| 1  | A   | B | 1      | 1.25 |\n",
        "| 2  | C   | D | 2      | 2    |\n",
        "| 3  | A   | B |1.5     | 1.25 |\n",
        "| 4  | D   | C | 3      | 3    |\n",
        "\n",
        "\n",
        "Begin by creating a helper column called `pickup_dropoff`, which contains the unique combination of pickup and dropoff location IDs for each row.\n",
        "\n",
        "One way to do this is to convert the pickup and dropoff location IDs to strings and join them, separated by a space. The space is to ensure that, for example, a trip with pickup/dropoff points of 12 & 151 gets encoded differently than a trip with points 121 & 51.\n",
        "\n",
        "So, the new column would look like this:\n",
        "\n",
        "|Trip|Start|End|pickup_dropoff|\n",
        "|--: |:---:|:-:|  :--         |\n",
        "| 1  | A   | B | 'A B'        |\n",
        "| 2  | C   | D | 'C D'        |\n",
        "| 3  | A   | B | 'A B'        |\n",
        "| 4  | D   | C | 'D C'        |\n"
      ]
    },
    {
      "cell_type": "code",
      "execution_count": null,
      "metadata": {
        "id": "Euzet7a4ItF7",
        "outputId": "55a4118d-d3fe-482a-99d6-c8730a586030"
      },
      "outputs": [
        {
          "data": {
            "text/plain": [
              "0    100 231\n",
              "1     186 43\n",
              "Name: pickup_dropoff, dtype: object"
            ]
          },
          "execution_count": 73,
          "metadata": {},
          "output_type": "execute_result"
        }
      ],
      "source": [
        "# Create `pickup_dropoff` column\n",
        "df['pickup_dropoff'] = df['PULocationID'].astype(str) + ' ' + df['DOLocationID'].astype(str)\n",
        "df['pickup_dropoff'].head(2)"
      ]
    },
    {
      "cell_type": "markdown",
      "metadata": {
        "id": "JGuGDSGFItF7"
      },
      "source": [
        "Now, use a `groupby()` statement to group each row by the new `pickup_dropoff` column, compute the mean, and capture the values only in the `trip_distance` column. Assign the results to a variable named `grouped`."
      ]
    },
    {
      "cell_type": "code",
      "execution_count": null,
      "metadata": {
        "id": "xDIY7ojQItF7",
        "outputId": "ab7c3cc8-1b08-447c-b301-00460c00b850"
      },
      "outputs": [
        {
          "name": "stdout",
          "output_type": "stream",
          "text": [
            "pickup_dropoff\n",
            "1 1         2.433333\n",
            "10 148     15.700000\n",
            "100 1      16.890000\n",
            "100 100     0.253333\n",
            "100 107     1.180000\n",
            "             ...    \n",
            "97 65       0.500000\n",
            "97 66       1.400000\n",
            "97 80       3.840000\n",
            "97 90       4.420000\n",
            "97 97       1.006667\n",
            "Name: trip_distance, Length: 4172, dtype: float64\n",
            "float64\n",
            "2.433333333333333\n"
          ]
        }
      ],
      "source": [
        "grouped = df.groupby('pickup_dropoff').trip_distance.mean(numeric_only=True)\n",
        "print(grouped)\n",
        "print(grouped.dtype)\n",
        "print(grouped['1 1'])"
      ]
    },
    {
      "cell_type": "markdown",
      "metadata": {
        "id": "Foe7vpz4ItF7"
      },
      "source": [
        "`grouped` is an object of the `DataFrame` class.\n",
        "\n",
        "1. Convert it to a dictionary using the [`to_dict()`](https://pandas.pydata.org/docs/reference/api/pandas.DataFrame.to_dict.html) method. Assign the results to a variable called `grouped_dict`. This will result in a dictionary with a key of `trip_distance` whose values are another dictionary. The inner dictionary's keys are pickup/dropoff points and its values are mean distances. This is the information you want.\n",
        "\n",
        "```\n",
        "Example:\n",
        "grouped_dict = {'trip_distance': {'A B': 1.25, 'C D': 2, 'D C': 3}\n",
        "```\n",
        "\n",
        "2. Reassign the `grouped_dict` dictionary so it contains only the inner dictionary. In other words, get rid of `trip_distance` as a key, so:\n",
        "\n",
        "```\n",
        "Example:\n",
        "grouped_dict = {'A B': 1.25, 'C D': 2, 'D C': 3}\n",
        " ```"
      ]
    },
    {
      "cell_type": "code",
      "execution_count": null,
      "metadata": {
        "id": "XA07ZHiFItF7"
      },
      "outputs": [],
      "source": [
        "# 1. Convert `grouped` to a dictionary\n",
        "grouped_dict = grouped.to_dict()\n",
        "\n",
        "# 2. Reassign to only contain the inner dictionary\n",
        "# We do not need to do this step since we had selected only one column to compute the means of, and thus did not have this nesting"
      ]
    },
    {
      "cell_type": "markdown",
      "metadata": {
        "id": "3vT2p6AUItF8"
      },
      "source": [
        "1. Create a `mean_distance` column that is a copy of the `pickup_dropoff` helper column.\n",
        "\n",
        "2. Use the [`map()`](https://pandas.pydata.org/docs/reference/api/pandas.Series.map.html#pandas-series-map) method on the `mean_distance` series. Pass `grouped_dict` as its argument. Reassign the result back to the `mean_distance` series.\n",
        "</br></br>\n",
        "When you pass a dictionary to the `Series.map()` method, it will replace the data in the series where that data matches the dictionary's keys. The values that get imputed are the values of the dictionary.\n",
        "\n",
        "```\n",
        "Example:\n",
        "df['mean_distance']\n",
        "```\n",
        "\n",
        "|mean_distance |\n",
        "|  :-:         |\n",
        "| 'A B'        |\n",
        "| 'C D'        |\n",
        "| 'A B'        |\n",
        "| 'D C'        |\n",
        "| 'E F'        |\n",
        "\n",
        "```\n",
        "grouped_dict = {'A B': 1.25, 'C D': 2, 'D C': 3}\n",
        "df['mean_distance`] = df['mean_distance'].map(grouped_dict)\n",
        "df['mean_distance']\n",
        "```\n",
        "\n",
        "|mean_distance |\n",
        "|  :-:         |\n",
        "| 1.25         |\n",
        "| 2            |\n",
        "| 1.25         |\n",
        "| 3            |\n",
        "| NaN          |\n",
        "\n",
        "When used this way, the `map()` `Series` method is very similar to `replace()`, however, note that `map()` will impute `NaN` for any values in the series that do not have a corresponding key in the mapping dictionary, so be careful."
      ]
    },
    {
      "cell_type": "code",
      "execution_count": null,
      "metadata": {
        "id": "mhbgtsjxItF8",
        "outputId": "86d3e829-5cde-4078-c190-07f286df772a"
      },
      "outputs": [
        {
          "data": {
            "text/html": [
              "<div>\n",
              "<style scoped>\n",
              "    .dataframe tbody tr th:only-of-type {\n",
              "        vertical-align: middle;\n",
              "    }\n",
              "\n",
              "    .dataframe tbody tr th {\n",
              "        vertical-align: top;\n",
              "    }\n",
              "\n",
              "    .dataframe thead th {\n",
              "        text-align: right;\n",
              "    }\n",
              "</style>\n",
              "<table border=\"1\" class=\"dataframe\">\n",
              "  <thead>\n",
              "    <tr style=\"text-align: right;\">\n",
              "      <th></th>\n",
              "      <th>mean_distance</th>\n",
              "    </tr>\n",
              "  </thead>\n",
              "  <tbody>\n",
              "    <tr>\n",
              "      <th>0</th>\n",
              "      <td>3.521667</td>\n",
              "    </tr>\n",
              "    <tr>\n",
              "      <th>4909</th>\n",
              "      <td>3.521667</td>\n",
              "    </tr>\n",
              "    <tr>\n",
              "      <th>16636</th>\n",
              "      <td>3.521667</td>\n",
              "    </tr>\n",
              "    <tr>\n",
              "      <th>18134</th>\n",
              "      <td>3.521667</td>\n",
              "    </tr>\n",
              "    <tr>\n",
              "      <th>19761</th>\n",
              "      <td>3.521667</td>\n",
              "    </tr>\n",
              "    <tr>\n",
              "      <th>20581</th>\n",
              "      <td>3.521667</td>\n",
              "    </tr>\n",
              "  </tbody>\n",
              "</table>\n",
              "</div>"
            ],
            "text/plain": [
              "       mean_distance\n",
              "0           3.521667\n",
              "4909        3.521667\n",
              "16636       3.521667\n",
              "18134       3.521667\n",
              "19761       3.521667\n",
              "20581       3.521667"
            ]
          },
          "execution_count": 76,
          "metadata": {},
          "output_type": "execute_result"
        }
      ],
      "source": [
        "# 1. Create a mean_distance column that is a copy of the pickup_dropoff helper column\n",
        "df['mean_distance'] = df['pickup_dropoff']\n",
        "\n",
        "# 2. Map `grouped_dict` to the `mean_distance` column\n",
        "df['mean_distance'] = df['mean_distance'].map(grouped_dict)\n",
        "\n",
        "# Confirm that it worked\n",
        "df[(df['PULocationID']==100) & (df['DOLocationID']==231)][['mean_distance']]"
      ]
    },
    {
      "cell_type": "markdown",
      "metadata": {
        "id": "Ir7nBlBcItF8"
      },
      "source": [
        "#### Create `mean_duration` column\n",
        "\n",
        "Repeat the process used to create the `mean_distance` column to create a `mean_duration` column."
      ]
    },
    {
      "cell_type": "code",
      "execution_count": null,
      "metadata": {
        "id": "1muzvbyfItF8",
        "outputId": "58acd28b-38ee-4cc9-b2f0-79503729a170"
      },
      "outputs": [
        {
          "name": "stdout",
          "output_type": "stream",
          "text": [
            "0        14.066667\n",
            "1        26.500000\n",
            "2         7.200000\n",
            "3        30.250000\n",
            "4        16.716667\n",
            "           ...    \n",
            "22694     3.266667\n",
            "22695    40.800000\n",
            "22696     4.133333\n",
            "22697    11.933333\n",
            "22698    13.333333\n",
            "Name: duration, Length: 22699, dtype: float64\n",
            "pickup_dropoff\n",
            "1 1         0.466667\n",
            "10 148     69.366667\n",
            "100 1      48.183333\n",
            "100 100     3.130556\n",
            "100 107    11.200000\n",
            "             ...    \n",
            "97 65       4.483333\n",
            "97 66      11.233333\n",
            "97 80      23.833333\n",
            "97 90      11.766667\n",
            "97 97       5.794444\n",
            "Name: duration, Length: 4172, dtype: float64\n",
            "float64\n",
            "0.4666666666666666\n"
          ]
        },
        {
          "data": {
            "text/html": [
              "<div>\n",
              "<style scoped>\n",
              "    .dataframe tbody tr th:only-of-type {\n",
              "        vertical-align: middle;\n",
              "    }\n",
              "\n",
              "    .dataframe tbody tr th {\n",
              "        vertical-align: top;\n",
              "    }\n",
              "\n",
              "    .dataframe thead th {\n",
              "        text-align: right;\n",
              "    }\n",
              "</style>\n",
              "<table border=\"1\" class=\"dataframe\">\n",
              "  <thead>\n",
              "    <tr style=\"text-align: right;\">\n",
              "      <th></th>\n",
              "      <th>duration</th>\n",
              "    </tr>\n",
              "  </thead>\n",
              "  <tbody>\n",
              "    <tr>\n",
              "      <th>0</th>\n",
              "      <td>22.847222</td>\n",
              "    </tr>\n",
              "    <tr>\n",
              "      <th>4909</th>\n",
              "      <td>22.847222</td>\n",
              "    </tr>\n",
              "    <tr>\n",
              "      <th>16636</th>\n",
              "      <td>22.847222</td>\n",
              "    </tr>\n",
              "    <tr>\n",
              "      <th>18134</th>\n",
              "      <td>22.847222</td>\n",
              "    </tr>\n",
              "    <tr>\n",
              "      <th>19761</th>\n",
              "      <td>22.847222</td>\n",
              "    </tr>\n",
              "    <tr>\n",
              "      <th>20581</th>\n",
              "      <td>22.847222</td>\n",
              "    </tr>\n",
              "  </tbody>\n",
              "</table>\n",
              "</div>"
            ],
            "text/plain": [
              "        duration\n",
              "0      22.847222\n",
              "4909   22.847222\n",
              "16636  22.847222\n",
              "18134  22.847222\n",
              "19761  22.847222\n",
              "20581  22.847222"
            ]
          },
          "execution_count": 79,
          "metadata": {},
          "output_type": "execute_result"
        }
      ],
      "source": [
        "# Make sure we have the correct duration column, in case we screw it up during our Notebook fiddling:\n",
        "df['duration'] = (df[date_time_columns[0]] - df[date_time_columns[1]])/np.timedelta64(1,'m')\n",
        "\n",
        "df.duration.head(5)\n",
        "print(df['duration'])\n",
        "grouped2 = df.groupby('pickup_dropoff').duration.mean(numeric_only=True)\n",
        "print(grouped2)\n",
        "print(grouped2.dtype)\n",
        "print(grouped2['1 1'])\n",
        "\n",
        "df['duration'] = df['pickup_dropoff'].map(grouped2)\n",
        "\n",
        "# Confirm that it worked\n",
        "df[(df['PULocationID']==100) & (df['DOLocationID']==231)][['duration']]"
      ]
    },
    {
      "cell_type": "markdown",
      "metadata": {
        "id": "v5DSuUlqItF8"
      },
      "source": [
        "#### Create `day` and `month` columns\n",
        "\n",
        "Create two new columns, `day` (name of day) and `month` (name of month) by extracting the relevant information from the `tpep_pickup_datetime` column."
      ]
    },
    {
      "cell_type": "code",
      "execution_count": null,
      "metadata": {
        "id": "-2hIiftLItF9"
      },
      "outputs": [],
      "source": [
        "# Create 'day' col\n",
        "df['day'] = df['tpep_pickup_datetime'].dt.day_name().str.lower()\n",
        "\n",
        "# Create 'month' col\n",
        "df['month'] = df['tpep_pickup_datetime'].dt.strftime('%b').str.lower()"
      ]
    },
    {
      "cell_type": "markdown",
      "metadata": {
        "id": "sptclCgGItF9"
      },
      "source": [
        "#### Create `rush_hour` column\n",
        "\n",
        "Define rush hour as:\n",
        "* Any weekday (not Saturday or Sunday) AND\n",
        "* Either from 06:00&ndash;10:00 or from 16:00&ndash;20:00\n",
        "\n",
        "Create a binary `rush_hour` column that contains a 1 if the ride was during rush hour and a 0 if it was not."
      ]
    },
    {
      "cell_type": "code",
      "execution_count": null,
      "metadata": {
        "id": "3pO7_0QXItF9"
      },
      "outputs": [],
      "source": [
        "# Create 'rush_hour' col\n",
        "df['rush_hour'] = df['tpep_pickup_datetime'].dt.hour\n",
        "\n",
        "# If day is Saturday or Sunday, impute 0 in `rush_hour` column\n",
        "df.loc[df['day'].isin(['saturday', 'sunday']), 'rush_hour'] = 0"
      ]
    },
    {
      "cell_type": "code",
      "execution_count": null,
      "metadata": {
        "id": "Xzg-RFGuItF9",
        "outputId": "d971f4b7-3fdb-438d-cbff-984afb82fd39"
      },
      "outputs": [
        {
          "data": {
            "text/html": [
              "<div>\n",
              "<style scoped>\n",
              "    .dataframe tbody tr th:only-of-type {\n",
              "        vertical-align: middle;\n",
              "    }\n",
              "\n",
              "    .dataframe tbody tr th {\n",
              "        vertical-align: top;\n",
              "    }\n",
              "\n",
              "    .dataframe thead th {\n",
              "        text-align: right;\n",
              "    }\n",
              "</style>\n",
              "<table border=\"1\" class=\"dataframe\">\n",
              "  <thead>\n",
              "    <tr style=\"text-align: right;\">\n",
              "      <th></th>\n",
              "      <th>Unnamed: 0</th>\n",
              "      <th>VendorID</th>\n",
              "      <th>tpep_pickup_datetime</th>\n",
              "      <th>tpep_dropoff_datetime</th>\n",
              "      <th>passenger_count</th>\n",
              "      <th>trip_distance</th>\n",
              "      <th>RatecodeID</th>\n",
              "      <th>store_and_fwd_flag</th>\n",
              "      <th>PULocationID</th>\n",
              "      <th>DOLocationID</th>\n",
              "      <th>...</th>\n",
              "      <th>tolls_amount</th>\n",
              "      <th>improvement_surcharge</th>\n",
              "      <th>total_amount</th>\n",
              "      <th>duration</th>\n",
              "      <th>pickup_dropoff</th>\n",
              "      <th>mean_distance</th>\n",
              "      <th>col</th>\n",
              "      <th>month</th>\n",
              "      <th>rush_hour</th>\n",
              "      <th>day</th>\n",
              "    </tr>\n",
              "  </thead>\n",
              "  <tbody>\n",
              "    <tr>\n",
              "      <th>0</th>\n",
              "      <td>24870114</td>\n",
              "      <td>2</td>\n",
              "      <td>2017-03-25 08:55:43</td>\n",
              "      <td>2017-03-25 09:09:47</td>\n",
              "      <td>6</td>\n",
              "      <td>3.34</td>\n",
              "      <td>1</td>\n",
              "      <td>N</td>\n",
              "      <td>100</td>\n",
              "      <td>231</td>\n",
              "      <td>...</td>\n",
              "      <td>0.0</td>\n",
              "      <td>0.3</td>\n",
              "      <td>16.56</td>\n",
              "      <td>22.847222</td>\n",
              "      <td>100 231</td>\n",
              "      <td>3.521667</td>\n",
              "      <td>saturday</td>\n",
              "      <td>mar</td>\n",
              "      <td>0</td>\n",
              "      <td>saturday</td>\n",
              "    </tr>\n",
              "    <tr>\n",
              "      <th>1</th>\n",
              "      <td>35634249</td>\n",
              "      <td>1</td>\n",
              "      <td>2017-04-11 14:53:28</td>\n",
              "      <td>2017-04-11 15:19:58</td>\n",
              "      <td>1</td>\n",
              "      <td>1.80</td>\n",
              "      <td>1</td>\n",
              "      <td>N</td>\n",
              "      <td>186</td>\n",
              "      <td>43</td>\n",
              "      <td>...</td>\n",
              "      <td>0.0</td>\n",
              "      <td>0.3</td>\n",
              "      <td>20.80</td>\n",
              "      <td>24.470370</td>\n",
              "      <td>186 43</td>\n",
              "      <td>3.108889</td>\n",
              "      <td>tuesday</td>\n",
              "      <td>apr</td>\n",
              "      <td>0</td>\n",
              "      <td>tuesday</td>\n",
              "    </tr>\n",
              "    <tr>\n",
              "      <th>2</th>\n",
              "      <td>106203690</td>\n",
              "      <td>1</td>\n",
              "      <td>2017-12-15 07:26:56</td>\n",
              "      <td>2017-12-15 07:34:08</td>\n",
              "      <td>1</td>\n",
              "      <td>1.00</td>\n",
              "      <td>1</td>\n",
              "      <td>N</td>\n",
              "      <td>262</td>\n",
              "      <td>236</td>\n",
              "      <td>...</td>\n",
              "      <td>0.0</td>\n",
              "      <td>0.3</td>\n",
              "      <td>8.75</td>\n",
              "      <td>7.250000</td>\n",
              "      <td>262 236</td>\n",
              "      <td>0.881429</td>\n",
              "      <td>friday</td>\n",
              "      <td>dec</td>\n",
              "      <td>0</td>\n",
              "      <td>friday</td>\n",
              "    </tr>\n",
              "    <tr>\n",
              "      <th>3</th>\n",
              "      <td>38942136</td>\n",
              "      <td>2</td>\n",
              "      <td>2017-05-07 13:17:59</td>\n",
              "      <td>2017-05-07 13:48:14</td>\n",
              "      <td>1</td>\n",
              "      <td>3.70</td>\n",
              "      <td>1</td>\n",
              "      <td>N</td>\n",
              "      <td>188</td>\n",
              "      <td>97</td>\n",
              "      <td>...</td>\n",
              "      <td>0.0</td>\n",
              "      <td>0.3</td>\n",
              "      <td>27.69</td>\n",
              "      <td>30.250000</td>\n",
              "      <td>188 97</td>\n",
              "      <td>3.700000</td>\n",
              "      <td>sunday</td>\n",
              "      <td>may</td>\n",
              "      <td>0</td>\n",
              "      <td>sunday</td>\n",
              "    </tr>\n",
              "    <tr>\n",
              "      <th>4</th>\n",
              "      <td>30841670</td>\n",
              "      <td>2</td>\n",
              "      <td>2017-04-15 23:32:20</td>\n",
              "      <td>2017-04-15 23:49:03</td>\n",
              "      <td>1</td>\n",
              "      <td>4.37</td>\n",
              "      <td>1</td>\n",
              "      <td>N</td>\n",
              "      <td>4</td>\n",
              "      <td>112</td>\n",
              "      <td>...</td>\n",
              "      <td>0.0</td>\n",
              "      <td>0.3</td>\n",
              "      <td>17.80</td>\n",
              "      <td>14.616667</td>\n",
              "      <td>4 112</td>\n",
              "      <td>4.435000</td>\n",
              "      <td>saturday</td>\n",
              "      <td>apr</td>\n",
              "      <td>0</td>\n",
              "      <td>saturday</td>\n",
              "    </tr>\n",
              "  </tbody>\n",
              "</table>\n",
              "<p>5 rows × 25 columns</p>\n",
              "</div>"
            ],
            "text/plain": [
              "   Unnamed: 0  VendorID tpep_pickup_datetime tpep_dropoff_datetime  \\\n",
              "0    24870114         2  2017-03-25 08:55:43   2017-03-25 09:09:47   \n",
              "1    35634249         1  2017-04-11 14:53:28   2017-04-11 15:19:58   \n",
              "2   106203690         1  2017-12-15 07:26:56   2017-12-15 07:34:08   \n",
              "3    38942136         2  2017-05-07 13:17:59   2017-05-07 13:48:14   \n",
              "4    30841670         2  2017-04-15 23:32:20   2017-04-15 23:49:03   \n",
              "\n",
              "   passenger_count  trip_distance  RatecodeID store_and_fwd_flag  \\\n",
              "0                6           3.34           1                  N   \n",
              "1                1           1.80           1                  N   \n",
              "2                1           1.00           1                  N   \n",
              "3                1           3.70           1                  N   \n",
              "4                1           4.37           1                  N   \n",
              "\n",
              "   PULocationID  DOLocationID  ...  tolls_amount  improvement_surcharge  \\\n",
              "0           100           231  ...           0.0                    0.3   \n",
              "1           186            43  ...           0.0                    0.3   \n",
              "2           262           236  ...           0.0                    0.3   \n",
              "3           188            97  ...           0.0                    0.3   \n",
              "4             4           112  ...           0.0                    0.3   \n",
              "\n",
              "   total_amount   duration  pickup_dropoff  mean_distance       col  month  \\\n",
              "0         16.56  22.847222         100 231       3.521667  saturday    mar   \n",
              "1         20.80  24.470370          186 43       3.108889   tuesday    apr   \n",
              "2          8.75   7.250000         262 236       0.881429    friday    dec   \n",
              "3         27.69  30.250000          188 97       3.700000    sunday    may   \n",
              "4         17.80  14.616667           4 112       4.435000  saturday    apr   \n",
              "\n",
              "   rush_hour       day  \n",
              "0          0  saturday  \n",
              "1          0   tuesday  \n",
              "2          0    friday  \n",
              "3          0    sunday  \n",
              "4          0  saturday  \n",
              "\n",
              "[5 rows x 25 columns]"
            ]
          },
          "execution_count": 90,
          "metadata": {},
          "output_type": "execute_result"
        }
      ],
      "source": [
        "def rush_hourizer(hour):\n",
        "    if 6 <= hour['rush_hour'] < 10:\n",
        "        return 1\n",
        "    elif 16 <= hour['rush_hour'] < 20:\n",
        "        return 1\n",
        "    else:\n",
        "        return 0\n",
        "\n",
        "# Apply the `rush_hourizer()` function to the new column\n",
        "df.loc[(df.day != 'saturday') & (df.day != 'sunday'), 'rush_hour'] = df.apply(rush_hourizer, axis=1)\n",
        "df.head()"
      ]
    },
    {
      "cell_type": "markdown",
      "metadata": {
        "id": "gLS2rGOsItF9"
      },
      "source": [
        "### Scatter plot\n",
        "\n",
        "We will create a scatterplot to visualize the relationship between `mean_duration` and `fare_amount`."
      ]
    },
    {
      "cell_type": "code",
      "execution_count": null,
      "metadata": {
        "id": "0T6WpjOcItF9",
        "outputId": "7d0cb346-d7d7-448a-ec98-5dc9c134704c"
      },
      "outputs": [
        {
          "data": {
            "image/png": "[encoded data removed]",
            "text/plain": [
              "<Figure size 360x360 with 1 Axes>"
            ]
          },
          "metadata": {},
          "output_type": "display_data"
        },
        {
          "data": {
            "image/png": "[encoded data removed]",
            "text/plain": [
              "<Figure size 360x360 with 1 Axes>"
            ]
          },
          "metadata": {},
          "output_type": "display_data"
        }
      ],
      "source": [
        "# Create a scatter plot of duration and trip_distance, with a line of best fit\n",
        "sns.set(style='whitegrid')\n",
        "f = plt.figure()\n",
        "f.set_figwidth(5)\n",
        "f.set_figheight(5)\n",
        "sns.regplot(x=df['duration'], y=df['fare_amount'],\n",
        "            scatter_kws={'alpha':0.5, 's':5},\n",
        "            line_kws={'color':'red'})\n",
        "plt.ylim(0, 70)\n",
        "plt.xlim(0, 70)\n",
        "plt.title('Mean duration x Fare amount')\n",
        "plt.show()\n",
        "\n",
        "grouped = df.groupby('pickup_dropoff').mean(numeric_only=True)[['duration']]\n",
        "grouped\n",
        "\n",
        "# Create a dictionary where keys are unique pickup_dropoffs and values are\n",
        "# mean trip duration for all trips with those pickup_dropoff combos\n",
        "grouped_dict = grouped.to_dict()\n",
        "grouped_dict = grouped_dict['duration']\n",
        "\n",
        "df['mean_duration'] = df['pickup_dropoff']\n",
        "df['mean_duration'] = df['mean_duration'].map(grouped_dict)\n",
        "\n",
        "# Create a scatter plot of mean_duration and trip_distance, with a line of best fit\n",
        "sns.set(style='whitegrid')\n",
        "f = plt.figure()\n",
        "f.set_figwidth(5)\n",
        "f.set_figheight(5)\n",
        "sns.regplot(x=df['mean_duration'], y=df['fare_amount'],\n",
        "            scatter_kws={'alpha':0.05, 's':5},\n",
        "            line_kws={'color':'red'})\n",
        "plt.ylim(0, 70)\n",
        "plt.xlim(0, 70)\n",
        "plt.title('Mean duration x Fare amount')\n",
        "plt.show()\n"
      ]
    },
    {
      "cell_type": "markdown",
      "metadata": {
        "id": "5fmLIjuaItF-"
      },
      "source": [
        "The `mean_duration` variable correlates with the target variable. But what are the horizontal lines around fare amounts of 52 dollars and 63 dollars? What are the values and how many are there?\n",
        "\n",
        "You know what one of the lines represents. 62 dollars and 50 cents is the maximum that was imputed for outliers, so all former outliers will now have fare amounts of \\$62.50. What is the other line?\n",
        "\n",
        "Check the value of the rides in the second horizontal line in the scatter plot."
      ]
    },
    {
      "cell_type": "code",
      "execution_count": null,
      "metadata": {
        "id": "6cQIFj0gItF-",
        "outputId": "4860485c-4e99-482a-f7b5-102269d22352"
      },
      "outputs": [
        {
          "data": {
            "text/plain": [
              "52.0    514\n",
              "62.5     84\n",
              "59.0      9\n",
              "50.5      9\n",
              "57.5      8\n",
              "Name: fare_amount, dtype: int64"
            ]
          },
          "execution_count": 96,
          "metadata": {},
          "output_type": "execute_result"
        }
      ],
      "source": [
        "df[df['fare_amount'] > 50]['fare_amount'].value_counts().head()"
      ]
    },
    {
      "cell_type": "markdown",
      "metadata": {
        "id": "gecMGgIaItF-"
      },
      "source": [
        "Examine the first 30 of these trips."
      ]
    },
    {
      "cell_type": "code",
      "execution_count": null,
      "metadata": {
        "id": "DxipIux6ItF-",
        "outputId": "05e1c0a4-38fe-4def-ff0e-a9a41813aa3c"
      },
      "outputs": [
        {
          "data": {
            "text/html": [
              "<div>\n",
              "<style scoped>\n",
              "    .dataframe tbody tr th:only-of-type {\n",
              "        vertical-align: middle;\n",
              "    }\n",
              "\n",
              "    .dataframe tbody tr th {\n",
              "        vertical-align: top;\n",
              "    }\n",
              "\n",
              "    .dataframe thead th {\n",
              "        text-align: right;\n",
              "    }\n",
              "</style>\n",
              "<table border=\"1\" class=\"dataframe\">\n",
              "  <thead>\n",
              "    <tr style=\"text-align: right;\">\n",
              "      <th></th>\n",
              "      <th>Unnamed: 0</th>\n",
              "      <th>VendorID</th>\n",
              "      <th>tpep_pickup_datetime</th>\n",
              "      <th>tpep_dropoff_datetime</th>\n",
              "      <th>passenger_count</th>\n",
              "      <th>trip_distance</th>\n",
              "      <th>RatecodeID</th>\n",
              "      <th>store_and_fwd_flag</th>\n",
              "      <th>PULocationID</th>\n",
              "      <th>DOLocationID</th>\n",
              "      <th>payment_type</th>\n",
              "      <th>fare_amount</th>\n",
              "      <th>extra</th>\n",
              "      <th>mta_tax</th>\n",
              "      <th>tip_amount</th>\n",
              "      <th>tolls_amount</th>\n",
              "      <th>improvement_surcharge</th>\n",
              "      <th>total_amount</th>\n",
              "      <th>duration</th>\n",
              "      <th>pickup_dropoff</th>\n",
              "      <th>mean_distance</th>\n",
              "      <th>col</th>\n",
              "      <th>month</th>\n",
              "      <th>rush_hour</th>\n",
              "      <th>day</th>\n",
              "      <th>mean_duration</th>\n",
              "    </tr>\n",
              "  </thead>\n",
              "  <tbody>\n",
              "    <tr>\n",
              "      <th>11</th>\n",
              "      <td>18600059</td>\n",
              "      <td>2</td>\n",
              "      <td>2017-03-05 19:15:30</td>\n",
              "      <td>2017-03-05 19:52:18</td>\n",
              "      <td>2</td>\n",
              "      <td>18.90</td>\n",
              "      <td>2</td>\n",
              "      <td>N</td>\n",
              "      <td>236</td>\n",
              "      <td>132</td>\n",
              "      <td>1</td>\n",
              "      <td>52.0</td>\n",
              "      <td>0.0</td>\n",
              "      <td>0.5</td>\n",
              "      <td>14.58</td>\n",
              "      <td>5.54</td>\n",
              "      <td>0.3</td>\n",
              "      <td>72.92</td>\n",
              "      <td>265.147222</td>\n",
              "      <td>236 132</td>\n",
              "      <td>19.211667</td>\n",
              "      <td>sunday</td>\n",
              "      <td>mar</td>\n",
              "      <td>0</td>\n",
              "      <td>sunday</td>\n",
              "      <td>265.147222</td>\n",
              "    </tr>\n",
              "    <tr>\n",
              "      <th>110</th>\n",
              "      <td>47959795</td>\n",
              "      <td>1</td>\n",
              "      <td>2017-06-03 14:24:57</td>\n",
              "      <td>2017-06-03 15:31:48</td>\n",
              "      <td>1</td>\n",
              "      <td>18.00</td>\n",
              "      <td>2</td>\n",
              "      <td>N</td>\n",
              "      <td>132</td>\n",
              "      <td>163</td>\n",
              "      <td>1</td>\n",
              "      <td>52.0</td>\n",
              "      <td>0.0</td>\n",
              "      <td>0.5</td>\n",
              "      <td>0.00</td>\n",
              "      <td>0.00</td>\n",
              "      <td>0.3</td>\n",
              "      <td>52.80</td>\n",
              "      <td>52.941667</td>\n",
              "      <td>132 163</td>\n",
              "      <td>19.229000</td>\n",
              "      <td>saturday</td>\n",
              "      <td>jun</td>\n",
              "      <td>0</td>\n",
              "      <td>saturday</td>\n",
              "      <td>52.941667</td>\n",
              "    </tr>\n",
              "    <tr>\n",
              "      <th>161</th>\n",
              "      <td>95729204</td>\n",
              "      <td>2</td>\n",
              "      <td>2017-11-11 20:16:16</td>\n",
              "      <td>2017-11-11 20:17:14</td>\n",
              "      <td>1</td>\n",
              "      <td>0.23</td>\n",
              "      <td>2</td>\n",
              "      <td>N</td>\n",
              "      <td>132</td>\n",
              "      <td>132</td>\n",
              "      <td>2</td>\n",
              "      <td>52.0</td>\n",
              "      <td>0.0</td>\n",
              "      <td>0.5</td>\n",
              "      <td>0.00</td>\n",
              "      <td>0.00</td>\n",
              "      <td>0.3</td>\n",
              "      <td>52.80</td>\n",
              "      <td>3.021839</td>\n",
              "      <td>132 132</td>\n",
              "      <td>2.255862</td>\n",
              "      <td>saturday</td>\n",
              "      <td>nov</td>\n",
              "      <td>0</td>\n",
              "      <td>saturday</td>\n",
              "      <td>3.021839</td>\n",
              "    </tr>\n",
              "    <tr>\n",
              "      <th>247</th>\n",
              "      <td>103404868</td>\n",
              "      <td>2</td>\n",
              "      <td>2017-12-06 23:37:08</td>\n",
              "      <td>2017-12-07 00:06:19</td>\n",
              "      <td>1</td>\n",
              "      <td>18.93</td>\n",
              "      <td>2</td>\n",
              "      <td>N</td>\n",
              "      <td>132</td>\n",
              "      <td>79</td>\n",
              "      <td>2</td>\n",
              "      <td>52.0</td>\n",
              "      <td>0.0</td>\n",
              "      <td>0.5</td>\n",
              "      <td>0.00</td>\n",
              "      <td>0.00</td>\n",
              "      <td>0.3</td>\n",
              "      <td>52.80</td>\n",
              "      <td>47.275000</td>\n",
              "      <td>132 79</td>\n",
              "      <td>19.431667</td>\n",
              "      <td>wednesday</td>\n",
              "      <td>dec</td>\n",
              "      <td>0</td>\n",
              "      <td>wednesday</td>\n",
              "      <td>47.275000</td>\n",
              "    </tr>\n",
              "    <tr>\n",
              "      <th>379</th>\n",
              "      <td>80479432</td>\n",
              "      <td>2</td>\n",
              "      <td>2017-09-24 23:45:45</td>\n",
              "      <td>2017-09-25 00:15:14</td>\n",
              "      <td>1</td>\n",
              "      <td>17.99</td>\n",
              "      <td>2</td>\n",
              "      <td>N</td>\n",
              "      <td>132</td>\n",
              "      <td>234</td>\n",
              "      <td>1</td>\n",
              "      <td>52.0</td>\n",
              "      <td>0.0</td>\n",
              "      <td>0.5</td>\n",
              "      <td>14.64</td>\n",
              "      <td>5.76</td>\n",
              "      <td>0.3</td>\n",
              "      <td>73.20</td>\n",
              "      <td>49.833333</td>\n",
              "      <td>132 234</td>\n",
              "      <td>17.654000</td>\n",
              "      <td>sunday</td>\n",
              "      <td>sep</td>\n",
              "      <td>0</td>\n",
              "      <td>sunday</td>\n",
              "      <td>49.833333</td>\n",
              "    </tr>\n",
              "    <tr>\n",
              "      <th>388</th>\n",
              "      <td>16226157</td>\n",
              "      <td>1</td>\n",
              "      <td>2017-02-28 18:30:05</td>\n",
              "      <td>2017-02-28 19:09:55</td>\n",
              "      <td>1</td>\n",
              "      <td>18.40</td>\n",
              "      <td>2</td>\n",
              "      <td>N</td>\n",
              "      <td>132</td>\n",
              "      <td>48</td>\n",
              "      <td>2</td>\n",
              "      <td>52.0</td>\n",
              "      <td>4.5</td>\n",
              "      <td>0.5</td>\n",
              "      <td>0.00</td>\n",
              "      <td>5.54</td>\n",
              "      <td>0.3</td>\n",
              "      <td>62.84</td>\n",
              "      <td>61.604762</td>\n",
              "      <td>132 48</td>\n",
              "      <td>18.761905</td>\n",
              "      <td>tuesday</td>\n",
              "      <td>feb</td>\n",
              "      <td>0</td>\n",
              "      <td>tuesday</td>\n",
              "      <td>61.604762</td>\n",
              "    </tr>\n",
              "    <tr>\n",
              "      <th>406</th>\n",
              "      <td>55253442</td>\n",
              "      <td>2</td>\n",
              "      <td>2017-06-05 12:51:58</td>\n",
              "      <td>2017-06-05 13:07:35</td>\n",
              "      <td>1</td>\n",
              "      <td>4.73</td>\n",
              "      <td>2</td>\n",
              "      <td>N</td>\n",
              "      <td>228</td>\n",
              "      <td>88</td>\n",
              "      <td>2</td>\n",
              "      <td>52.0</td>\n",
              "      <td>0.0</td>\n",
              "      <td>0.5</td>\n",
              "      <td>0.00</td>\n",
              "      <td>5.76</td>\n",
              "      <td>0.3</td>\n",
              "      <td>58.56</td>\n",
              "      <td>15.616667</td>\n",
              "      <td>228 88</td>\n",
              "      <td>4.730000</td>\n",
              "      <td>monday</td>\n",
              "      <td>jun</td>\n",
              "      <td>0</td>\n",
              "      <td>monday</td>\n",
              "      <td>15.616667</td>\n",
              "    </tr>\n",
              "    <tr>\n",
              "      <th>449</th>\n",
              "      <td>65900029</td>\n",
              "      <td>2</td>\n",
              "      <td>2017-08-03 22:47:14</td>\n",
              "      <td>2017-08-03 23:32:41</td>\n",
              "      <td>2</td>\n",
              "      <td>18.21</td>\n",
              "      <td>2</td>\n",
              "      <td>N</td>\n",
              "      <td>132</td>\n",
              "      <td>48</td>\n",
              "      <td>2</td>\n",
              "      <td>52.0</td>\n",
              "      <td>0.0</td>\n",
              "      <td>0.5</td>\n",
              "      <td>0.00</td>\n",
              "      <td>5.76</td>\n",
              "      <td>0.3</td>\n",
              "      <td>58.56</td>\n",
              "      <td>61.604762</td>\n",
              "      <td>132 48</td>\n",
              "      <td>18.761905</td>\n",
              "      <td>thursday</td>\n",
              "      <td>aug</td>\n",
              "      <td>0</td>\n",
              "      <td>thursday</td>\n",
              "      <td>61.604762</td>\n",
              "    </tr>\n",
              "    <tr>\n",
              "      <th>468</th>\n",
              "      <td>80904240</td>\n",
              "      <td>2</td>\n",
              "      <td>2017-09-26 13:48:26</td>\n",
              "      <td>2017-09-26 14:31:17</td>\n",
              "      <td>1</td>\n",
              "      <td>17.27</td>\n",
              "      <td>2</td>\n",
              "      <td>N</td>\n",
              "      <td>186</td>\n",
              "      <td>132</td>\n",
              "      <td>2</td>\n",
              "      <td>52.0</td>\n",
              "      <td>0.0</td>\n",
              "      <td>0.5</td>\n",
              "      <td>0.00</td>\n",
              "      <td>5.76</td>\n",
              "      <td>0.3</td>\n",
              "      <td>58.56</td>\n",
              "      <td>42.920000</td>\n",
              "      <td>186 132</td>\n",
              "      <td>17.096000</td>\n",
              "      <td>tuesday</td>\n",
              "      <td>sep</td>\n",
              "      <td>0</td>\n",
              "      <td>tuesday</td>\n",
              "      <td>42.920000</td>\n",
              "    </tr>\n",
              "    <tr>\n",
              "      <th>520</th>\n",
              "      <td>33706214</td>\n",
              "      <td>2</td>\n",
              "      <td>2017-04-23 21:34:48</td>\n",
              "      <td>2017-04-23 22:46:23</td>\n",
              "      <td>6</td>\n",
              "      <td>18.34</td>\n",
              "      <td>2</td>\n",
              "      <td>N</td>\n",
              "      <td>132</td>\n",
              "      <td>148</td>\n",
              "      <td>1</td>\n",
              "      <td>52.0</td>\n",
              "      <td>0.0</td>\n",
              "      <td>0.5</td>\n",
              "      <td>5.00</td>\n",
              "      <td>0.00</td>\n",
              "      <td>0.3</td>\n",
              "      <td>57.80</td>\n",
              "      <td>46.340476</td>\n",
              "      <td>132 148</td>\n",
              "      <td>17.994286</td>\n",
              "      <td>sunday</td>\n",
              "      <td>apr</td>\n",
              "      <td>0</td>\n",
              "      <td>sunday</td>\n",
              "      <td>46.340476</td>\n",
              "    </tr>\n",
              "    <tr>\n",
              "      <th>569</th>\n",
              "      <td>99259872</td>\n",
              "      <td>2</td>\n",
              "      <td>2017-11-22 21:31:32</td>\n",
              "      <td>2017-11-22 22:00:25</td>\n",
              "      <td>1</td>\n",
              "      <td>18.65</td>\n",
              "      <td>2</td>\n",
              "      <td>N</td>\n",
              "      <td>132</td>\n",
              "      <td>144</td>\n",
              "      <td>1</td>\n",
              "      <td>52.0</td>\n",
              "      <td>0.0</td>\n",
              "      <td>0.5</td>\n",
              "      <td>10.56</td>\n",
              "      <td>0.00</td>\n",
              "      <td>0.3</td>\n",
              "      <td>63.36</td>\n",
              "      <td>37.000000</td>\n",
              "      <td>132 144</td>\n",
              "      <td>18.537500</td>\n",
              "      <td>wednesday</td>\n",
              "      <td>nov</td>\n",
              "      <td>0</td>\n",
              "      <td>wednesday</td>\n",
              "      <td>37.000000</td>\n",
              "    </tr>\n",
              "    <tr>\n",
              "      <th>572</th>\n",
              "      <td>61050418</td>\n",
              "      <td>2</td>\n",
              "      <td>2017-07-18 13:29:06</td>\n",
              "      <td>2017-07-18 13:29:19</td>\n",
              "      <td>1</td>\n",
              "      <td>0.00</td>\n",
              "      <td>2</td>\n",
              "      <td>N</td>\n",
              "      <td>230</td>\n",
              "      <td>161</td>\n",
              "      <td>1</td>\n",
              "      <td>52.0</td>\n",
              "      <td>0.0</td>\n",
              "      <td>0.5</td>\n",
              "      <td>11.71</td>\n",
              "      <td>5.76</td>\n",
              "      <td>0.3</td>\n",
              "      <td>70.27</td>\n",
              "      <td>7.965591</td>\n",
              "      <td>230 161</td>\n",
              "      <td>0.685484</td>\n",
              "      <td>tuesday</td>\n",
              "      <td>jul</td>\n",
              "      <td>0</td>\n",
              "      <td>tuesday</td>\n",
              "      <td>7.965591</td>\n",
              "    </tr>\n",
              "    <tr>\n",
              "      <th>586</th>\n",
              "      <td>54444647</td>\n",
              "      <td>2</td>\n",
              "      <td>2017-06-26 13:39:12</td>\n",
              "      <td>2017-06-26 14:34:54</td>\n",
              "      <td>1</td>\n",
              "      <td>17.76</td>\n",
              "      <td>2</td>\n",
              "      <td>N</td>\n",
              "      <td>211</td>\n",
              "      <td>132</td>\n",
              "      <td>1</td>\n",
              "      <td>52.0</td>\n",
              "      <td>0.0</td>\n",
              "      <td>0.5</td>\n",
              "      <td>11.71</td>\n",
              "      <td>5.76</td>\n",
              "      <td>0.3</td>\n",
              "      <td>70.27</td>\n",
              "      <td>61.691667</td>\n",
              "      <td>211 132</td>\n",
              "      <td>16.580000</td>\n",
              "      <td>monday</td>\n",
              "      <td>jun</td>\n",
              "      <td>0</td>\n",
              "      <td>monday</td>\n",
              "      <td>61.691667</td>\n",
              "    </tr>\n",
              "    <tr>\n",
              "      <th>692</th>\n",
              "      <td>94424289</td>\n",
              "      <td>2</td>\n",
              "      <td>2017-11-07 22:15:00</td>\n",
              "      <td>2017-11-07 22:45:32</td>\n",
              "      <td>2</td>\n",
              "      <td>16.97</td>\n",
              "      <td>2</td>\n",
              "      <td>N</td>\n",
              "      <td>132</td>\n",
              "      <td>170</td>\n",
              "      <td>1</td>\n",
              "      <td>52.0</td>\n",
              "      <td>0.0</td>\n",
              "      <td>0.5</td>\n",
              "      <td>11.71</td>\n",
              "      <td>5.76</td>\n",
              "      <td>0.3</td>\n",
              "      <td>70.27</td>\n",
              "      <td>37.113333</td>\n",
              "      <td>132 170</td>\n",
              "      <td>17.203000</td>\n",
              "      <td>tuesday</td>\n",
              "      <td>nov</td>\n",
              "      <td>0</td>\n",
              "      <td>tuesday</td>\n",
              "      <td>37.113333</td>\n",
              "    </tr>\n",
              "    <tr>\n",
              "      <th>717</th>\n",
              "      <td>103094220</td>\n",
              "      <td>1</td>\n",
              "      <td>2017-12-06 05:19:50</td>\n",
              "      <td>2017-12-06 05:53:52</td>\n",
              "      <td>1</td>\n",
              "      <td>20.80</td>\n",
              "      <td>2</td>\n",
              "      <td>N</td>\n",
              "      <td>132</td>\n",
              "      <td>239</td>\n",
              "      <td>1</td>\n",
              "      <td>52.0</td>\n",
              "      <td>0.0</td>\n",
              "      <td>0.5</td>\n",
              "      <td>5.85</td>\n",
              "      <td>5.76</td>\n",
              "      <td>0.3</td>\n",
              "      <td>64.41</td>\n",
              "      <td>44.862500</td>\n",
              "      <td>132 239</td>\n",
              "      <td>20.901250</td>\n",
              "      <td>wednesday</td>\n",
              "      <td>dec</td>\n",
              "      <td>0</td>\n",
              "      <td>wednesday</td>\n",
              "      <td>44.862500</td>\n",
              "    </tr>\n",
              "    <tr>\n",
              "      <th>719</th>\n",
              "      <td>66115834</td>\n",
              "      <td>1</td>\n",
              "      <td>2017-08-04 17:53:34</td>\n",
              "      <td>2017-08-04 18:50:56</td>\n",
              "      <td>1</td>\n",
              "      <td>21.60</td>\n",
              "      <td>2</td>\n",
              "      <td>N</td>\n",
              "      <td>264</td>\n",
              "      <td>264</td>\n",
              "      <td>1</td>\n",
              "      <td>52.0</td>\n",
              "      <td>4.5</td>\n",
              "      <td>0.5</td>\n",
              "      <td>12.60</td>\n",
              "      <td>5.76</td>\n",
              "      <td>0.3</td>\n",
              "      <td>75.66</td>\n",
              "      <td>25.329964</td>\n",
              "      <td>264 264</td>\n",
              "      <td>3.191516</td>\n",
              "      <td>friday</td>\n",
              "      <td>aug</td>\n",
              "      <td>0</td>\n",
              "      <td>friday</td>\n",
              "      <td>25.329964</td>\n",
              "    </tr>\n",
              "    <tr>\n",
              "      <th>782</th>\n",
              "      <td>55934137</td>\n",
              "      <td>2</td>\n",
              "      <td>2017-06-09 09:31:25</td>\n",
              "      <td>2017-06-09 10:24:10</td>\n",
              "      <td>2</td>\n",
              "      <td>18.81</td>\n",
              "      <td>2</td>\n",
              "      <td>N</td>\n",
              "      <td>163</td>\n",
              "      <td>132</td>\n",
              "      <td>1</td>\n",
              "      <td>52.0</td>\n",
              "      <td>0.0</td>\n",
              "      <td>0.5</td>\n",
              "      <td>13.20</td>\n",
              "      <td>0.00</td>\n",
              "      <td>0.3</td>\n",
              "      <td>66.00</td>\n",
              "      <td>164.759722</td>\n",
              "      <td>163 132</td>\n",
              "      <td>17.275833</td>\n",
              "      <td>friday</td>\n",
              "      <td>jun</td>\n",
              "      <td>0</td>\n",
              "      <td>friday</td>\n",
              "      <td>164.759722</td>\n",
              "    </tr>\n",
              "    <tr>\n",
              "      <th>816</th>\n",
              "      <td>13731926</td>\n",
              "      <td>2</td>\n",
              "      <td>2017-02-21 06:11:03</td>\n",
              "      <td>2017-02-21 06:59:39</td>\n",
              "      <td>5</td>\n",
              "      <td>16.94</td>\n",
              "      <td>2</td>\n",
              "      <td>N</td>\n",
              "      <td>132</td>\n",
              "      <td>170</td>\n",
              "      <td>1</td>\n",
              "      <td>52.0</td>\n",
              "      <td>0.0</td>\n",
              "      <td>0.5</td>\n",
              "      <td>2.00</td>\n",
              "      <td>5.54</td>\n",
              "      <td>0.3</td>\n",
              "      <td>60.34</td>\n",
              "      <td>37.113333</td>\n",
              "      <td>132 170</td>\n",
              "      <td>17.203000</td>\n",
              "      <td>tuesday</td>\n",
              "      <td>feb</td>\n",
              "      <td>0</td>\n",
              "      <td>tuesday</td>\n",
              "      <td>37.113333</td>\n",
              "    </tr>\n",
              "    <tr>\n",
              "      <th>818</th>\n",
              "      <td>52277743</td>\n",
              "      <td>2</td>\n",
              "      <td>2017-06-20 08:15:18</td>\n",
              "      <td>2017-06-20 10:24:37</td>\n",
              "      <td>1</td>\n",
              "      <td>17.77</td>\n",
              "      <td>2</td>\n",
              "      <td>N</td>\n",
              "      <td>132</td>\n",
              "      <td>246</td>\n",
              "      <td>1</td>\n",
              "      <td>52.0</td>\n",
              "      <td>0.0</td>\n",
              "      <td>0.5</td>\n",
              "      <td>11.71</td>\n",
              "      <td>5.76</td>\n",
              "      <td>0.3</td>\n",
              "      <td>70.27</td>\n",
              "      <td>86.583333</td>\n",
              "      <td>132 246</td>\n",
              "      <td>18.515000</td>\n",
              "      <td>tuesday</td>\n",
              "      <td>jun</td>\n",
              "      <td>0</td>\n",
              "      <td>tuesday</td>\n",
              "      <td>86.583333</td>\n",
              "    </tr>\n",
              "    <tr>\n",
              "      <th>835</th>\n",
              "      <td>2684305</td>\n",
              "      <td>2</td>\n",
              "      <td>2017-01-10 22:29:47</td>\n",
              "      <td>2017-01-10 23:06:46</td>\n",
              "      <td>1</td>\n",
              "      <td>18.57</td>\n",
              "      <td>2</td>\n",
              "      <td>N</td>\n",
              "      <td>132</td>\n",
              "      <td>48</td>\n",
              "      <td>1</td>\n",
              "      <td>52.0</td>\n",
              "      <td>0.0</td>\n",
              "      <td>0.5</td>\n",
              "      <td>13.20</td>\n",
              "      <td>0.00</td>\n",
              "      <td>0.3</td>\n",
              "      <td>66.00</td>\n",
              "      <td>61.604762</td>\n",
              "      <td>132 48</td>\n",
              "      <td>18.761905</td>\n",
              "      <td>tuesday</td>\n",
              "      <td>jan</td>\n",
              "      <td>0</td>\n",
              "      <td>tuesday</td>\n",
              "      <td>61.604762</td>\n",
              "    </tr>\n",
              "    <tr>\n",
              "      <th>840</th>\n",
              "      <td>90860814</td>\n",
              "      <td>2</td>\n",
              "      <td>2017-10-27 21:50:00</td>\n",
              "      <td>2017-10-27 22:35:04</td>\n",
              "      <td>1</td>\n",
              "      <td>22.43</td>\n",
              "      <td>2</td>\n",
              "      <td>N</td>\n",
              "      <td>132</td>\n",
              "      <td>163</td>\n",
              "      <td>2</td>\n",
              "      <td>52.0</td>\n",
              "      <td>0.0</td>\n",
              "      <td>0.5</td>\n",
              "      <td>0.00</td>\n",
              "      <td>5.76</td>\n",
              "      <td>0.3</td>\n",
              "      <td>58.56</td>\n",
              "      <td>52.941667</td>\n",
              "      <td>132 163</td>\n",
              "      <td>19.229000</td>\n",
              "      <td>friday</td>\n",
              "      <td>oct</td>\n",
              "      <td>0</td>\n",
              "      <td>friday</td>\n",
              "      <td>52.941667</td>\n",
              "    </tr>\n",
              "    <tr>\n",
              "      <th>861</th>\n",
              "      <td>106575186</td>\n",
              "      <td>1</td>\n",
              "      <td>2017-12-16 06:39:59</td>\n",
              "      <td>2017-12-16 07:07:59</td>\n",
              "      <td>2</td>\n",
              "      <td>17.80</td>\n",
              "      <td>2</td>\n",
              "      <td>N</td>\n",
              "      <td>75</td>\n",
              "      <td>132</td>\n",
              "      <td>1</td>\n",
              "      <td>52.0</td>\n",
              "      <td>0.0</td>\n",
              "      <td>0.5</td>\n",
              "      <td>6.00</td>\n",
              "      <td>5.76</td>\n",
              "      <td>0.3</td>\n",
              "      <td>64.56</td>\n",
              "      <td>36.204167</td>\n",
              "      <td>75 132</td>\n",
              "      <td>18.442500</td>\n",
              "      <td>saturday</td>\n",
              "      <td>dec</td>\n",
              "      <td>0</td>\n",
              "      <td>saturday</td>\n",
              "      <td>36.204167</td>\n",
              "    </tr>\n",
              "    <tr>\n",
              "      <th>881</th>\n",
              "      <td>110495611</td>\n",
              "      <td>2</td>\n",
              "      <td>2017-12-30 05:25:29</td>\n",
              "      <td>2017-12-30 06:01:29</td>\n",
              "      <td>6</td>\n",
              "      <td>18.23</td>\n",
              "      <td>2</td>\n",
              "      <td>N</td>\n",
              "      <td>68</td>\n",
              "      <td>132</td>\n",
              "      <td>2</td>\n",
              "      <td>52.0</td>\n",
              "      <td>0.0</td>\n",
              "      <td>0.5</td>\n",
              "      <td>0.00</td>\n",
              "      <td>0.00</td>\n",
              "      <td>0.3</td>\n",
              "      <td>52.80</td>\n",
              "      <td>63.737500</td>\n",
              "      <td>68 132</td>\n",
              "      <td>18.785000</td>\n",
              "      <td>saturday</td>\n",
              "      <td>dec</td>\n",
              "      <td>0</td>\n",
              "      <td>saturday</td>\n",
              "      <td>63.737500</td>\n",
              "    </tr>\n",
              "    <tr>\n",
              "      <th>958</th>\n",
              "      <td>87017503</td>\n",
              "      <td>1</td>\n",
              "      <td>2017-10-15 22:39:12</td>\n",
              "      <td>2017-10-15 23:14:22</td>\n",
              "      <td>1</td>\n",
              "      <td>21.80</td>\n",
              "      <td>2</td>\n",
              "      <td>N</td>\n",
              "      <td>132</td>\n",
              "      <td>261</td>\n",
              "      <td>2</td>\n",
              "      <td>52.0</td>\n",
              "      <td>0.0</td>\n",
              "      <td>0.5</td>\n",
              "      <td>0.00</td>\n",
              "      <td>0.00</td>\n",
              "      <td>0.3</td>\n",
              "      <td>52.80</td>\n",
              "      <td>51.493750</td>\n",
              "      <td>132 261</td>\n",
              "      <td>22.115000</td>\n",
              "      <td>sunday</td>\n",
              "      <td>oct</td>\n",
              "      <td>0</td>\n",
              "      <td>sunday</td>\n",
              "      <td>51.493750</td>\n",
              "    </tr>\n",
              "    <tr>\n",
              "      <th>970</th>\n",
              "      <td>12762608</td>\n",
              "      <td>2</td>\n",
              "      <td>2017-02-17 20:39:42</td>\n",
              "      <td>2017-02-17 21:13:29</td>\n",
              "      <td>1</td>\n",
              "      <td>19.57</td>\n",
              "      <td>2</td>\n",
              "      <td>N</td>\n",
              "      <td>132</td>\n",
              "      <td>140</td>\n",
              "      <td>1</td>\n",
              "      <td>52.0</td>\n",
              "      <td>0.0</td>\n",
              "      <td>0.5</td>\n",
              "      <td>11.67</td>\n",
              "      <td>5.54</td>\n",
              "      <td>0.3</td>\n",
              "      <td>70.01</td>\n",
              "      <td>36.791667</td>\n",
              "      <td>132 140</td>\n",
              "      <td>19.293333</td>\n",
              "      <td>friday</td>\n",
              "      <td>feb</td>\n",
              "      <td>0</td>\n",
              "      <td>friday</td>\n",
              "      <td>36.791667</td>\n",
              "    </tr>\n",
              "    <tr>\n",
              "      <th>984</th>\n",
              "      <td>71264442</td>\n",
              "      <td>1</td>\n",
              "      <td>2017-08-23 18:23:26</td>\n",
              "      <td>2017-08-23 19:18:29</td>\n",
              "      <td>1</td>\n",
              "      <td>16.70</td>\n",
              "      <td>2</td>\n",
              "      <td>N</td>\n",
              "      <td>132</td>\n",
              "      <td>230</td>\n",
              "      <td>1</td>\n",
              "      <td>52.0</td>\n",
              "      <td>4.5</td>\n",
              "      <td>0.5</td>\n",
              "      <td>42.29</td>\n",
              "      <td>0.00</td>\n",
              "      <td>0.3</td>\n",
              "      <td>99.59</td>\n",
              "      <td>60.800000</td>\n",
              "      <td>132 230</td>\n",
              "      <td>18.571200</td>\n",
              "      <td>wednesday</td>\n",
              "      <td>aug</td>\n",
              "      <td>0</td>\n",
              "      <td>wednesday</td>\n",
              "      <td>60.800000</td>\n",
              "    </tr>\n",
              "    <tr>\n",
              "      <th>1082</th>\n",
              "      <td>11006300</td>\n",
              "      <td>2</td>\n",
              "      <td>2017-02-07 17:20:19</td>\n",
              "      <td>2017-02-07 17:34:41</td>\n",
              "      <td>1</td>\n",
              "      <td>1.09</td>\n",
              "      <td>2</td>\n",
              "      <td>N</td>\n",
              "      <td>170</td>\n",
              "      <td>48</td>\n",
              "      <td>2</td>\n",
              "      <td>52.0</td>\n",
              "      <td>4.5</td>\n",
              "      <td>0.5</td>\n",
              "      <td>0.00</td>\n",
              "      <td>5.54</td>\n",
              "      <td>0.3</td>\n",
              "      <td>62.84</td>\n",
              "      <td>14.135965</td>\n",
              "      <td>170 48</td>\n",
              "      <td>1.265789</td>\n",
              "      <td>tuesday</td>\n",
              "      <td>feb</td>\n",
              "      <td>0</td>\n",
              "      <td>tuesday</td>\n",
              "      <td>14.135965</td>\n",
              "    </tr>\n",
              "    <tr>\n",
              "      <th>1097</th>\n",
              "      <td>68882036</td>\n",
              "      <td>2</td>\n",
              "      <td>2017-08-14 23:01:15</td>\n",
              "      <td>2017-08-14 23:03:35</td>\n",
              "      <td>5</td>\n",
              "      <td>2.12</td>\n",
              "      <td>2</td>\n",
              "      <td>N</td>\n",
              "      <td>265</td>\n",
              "      <td>265</td>\n",
              "      <td>2</td>\n",
              "      <td>52.0</td>\n",
              "      <td>0.0</td>\n",
              "      <td>0.5</td>\n",
              "      <td>0.00</td>\n",
              "      <td>0.00</td>\n",
              "      <td>0.3</td>\n",
              "      <td>52.80</td>\n",
              "      <td>3.411538</td>\n",
              "      <td>265 265</td>\n",
              "      <td>0.753077</td>\n",
              "      <td>monday</td>\n",
              "      <td>aug</td>\n",
              "      <td>0</td>\n",
              "      <td>monday</td>\n",
              "      <td>3.411538</td>\n",
              "    </tr>\n",
              "    <tr>\n",
              "      <th>1110</th>\n",
              "      <td>74720333</td>\n",
              "      <td>1</td>\n",
              "      <td>2017-09-06 10:46:17</td>\n",
              "      <td>2017-09-06 11:44:41</td>\n",
              "      <td>1</td>\n",
              "      <td>19.10</td>\n",
              "      <td>2</td>\n",
              "      <td>N</td>\n",
              "      <td>239</td>\n",
              "      <td>132</td>\n",
              "      <td>1</td>\n",
              "      <td>52.0</td>\n",
              "      <td>0.0</td>\n",
              "      <td>0.5</td>\n",
              "      <td>15.80</td>\n",
              "      <td>0.00</td>\n",
              "      <td>0.3</td>\n",
              "      <td>68.60</td>\n",
              "      <td>50.562500</td>\n",
              "      <td>239 132</td>\n",
              "      <td>19.795000</td>\n",
              "      <td>wednesday</td>\n",
              "      <td>sep</td>\n",
              "      <td>0</td>\n",
              "      <td>wednesday</td>\n",
              "      <td>50.562500</td>\n",
              "    </tr>\n",
              "    <tr>\n",
              "      <th>1179</th>\n",
              "      <td>51937907</td>\n",
              "      <td>2</td>\n",
              "      <td>2017-06-19 06:23:13</td>\n",
              "      <td>2017-06-19 07:03:53</td>\n",
              "      <td>6</td>\n",
              "      <td>19.77</td>\n",
              "      <td>2</td>\n",
              "      <td>N</td>\n",
              "      <td>238</td>\n",
              "      <td>132</td>\n",
              "      <td>1</td>\n",
              "      <td>52.0</td>\n",
              "      <td>0.0</td>\n",
              "      <td>0.5</td>\n",
              "      <td>17.57</td>\n",
              "      <td>5.76</td>\n",
              "      <td>0.3</td>\n",
              "      <td>76.13</td>\n",
              "      <td>53.861111</td>\n",
              "      <td>238 132</td>\n",
              "      <td>19.470000</td>\n",
              "      <td>monday</td>\n",
              "      <td>jun</td>\n",
              "      <td>0</td>\n",
              "      <td>monday</td>\n",
              "      <td>53.861111</td>\n",
              "    </tr>\n",
              "  </tbody>\n",
              "</table>\n",
              "</div>"
            ],
            "text/plain": [
              "      Unnamed: 0  VendorID tpep_pickup_datetime tpep_dropoff_datetime  \\\n",
              "11      18600059         2  2017-03-05 19:15:30   2017-03-05 19:52:18   \n",
              "110     47959795         1  2017-06-03 14:24:57   2017-06-03 15:31:48   \n",
              "161     95729204         2  2017-11-11 20:16:16   2017-11-11 20:17:14   \n",
              "247    103404868         2  2017-12-06 23:37:08   2017-12-07 00:06:19   \n",
              "379     80479432         2  2017-09-24 23:45:45   2017-09-25 00:15:14   \n",
              "388     16226157         1  2017-02-28 18:30:05   2017-02-28 19:09:55   \n",
              "406     55253442         2  2017-06-05 12:51:58   2017-06-05 13:07:35   \n",
              "449     65900029         2  2017-08-03 22:47:14   2017-08-03 23:32:41   \n",
              "468     80904240         2  2017-09-26 13:48:26   2017-09-26 14:31:17   \n",
              "520     33706214         2  2017-04-23 21:34:48   2017-04-23 22:46:23   \n",
              "569     99259872         2  2017-11-22 21:31:32   2017-11-22 22:00:25   \n",
              "572     61050418         2  2017-07-18 13:29:06   2017-07-18 13:29:19   \n",
              "586     54444647         2  2017-06-26 13:39:12   2017-06-26 14:34:54   \n",
              "692     94424289         2  2017-11-07 22:15:00   2017-11-07 22:45:32   \n",
              "717    103094220         1  2017-12-06 05:19:50   2017-12-06 05:53:52   \n",
              "719     66115834         1  2017-08-04 17:53:34   2017-08-04 18:50:56   \n",
              "782     55934137         2  2017-06-09 09:31:25   2017-06-09 10:24:10   \n",
              "816     13731926         2  2017-02-21 06:11:03   2017-02-21 06:59:39   \n",
              "818     52277743         2  2017-06-20 08:15:18   2017-06-20 10:24:37   \n",
              "835      2684305         2  2017-01-10 22:29:47   2017-01-10 23:06:46   \n",
              "840     90860814         2  2017-10-27 21:50:00   2017-10-27 22:35:04   \n",
              "861    106575186         1  2017-12-16 06:39:59   2017-12-16 07:07:59   \n",
              "881    110495611         2  2017-12-30 05:25:29   2017-12-30 06:01:29   \n",
              "958     87017503         1  2017-10-15 22:39:12   2017-10-15 23:14:22   \n",
              "970     12762608         2  2017-02-17 20:39:42   2017-02-17 21:13:29   \n",
              "984     71264442         1  2017-08-23 18:23:26   2017-08-23 19:18:29   \n",
              "1082    11006300         2  2017-02-07 17:20:19   2017-02-07 17:34:41   \n",
              "1097    68882036         2  2017-08-14 23:01:15   2017-08-14 23:03:35   \n",
              "1110    74720333         1  2017-09-06 10:46:17   2017-09-06 11:44:41   \n",
              "1179    51937907         2  2017-06-19 06:23:13   2017-06-19 07:03:53   \n",
              "\n",
              "      passenger_count  trip_distance  RatecodeID store_and_fwd_flag  \\\n",
              "11                  2          18.90           2                  N   \n",
              "110                 1          18.00           2                  N   \n",
              "161                 1           0.23           2                  N   \n",
              "247                 1          18.93           2                  N   \n",
              "379                 1          17.99           2                  N   \n",
              "388                 1          18.40           2                  N   \n",
              "406                 1           4.73           2                  N   \n",
              "449                 2          18.21           2                  N   \n",
              "468                 1          17.27           2                  N   \n",
              "520                 6          18.34           2                  N   \n",
              "569                 1          18.65           2                  N   \n",
              "572                 1           0.00           2                  N   \n",
              "586                 1          17.76           2                  N   \n",
              "692                 2          16.97           2                  N   \n",
              "717                 1          20.80           2                  N   \n",
              "719                 1          21.60           2                  N   \n",
              "782                 2          18.81           2                  N   \n",
              "816                 5          16.94           2                  N   \n",
              "818                 1          17.77           2                  N   \n",
              "835                 1          18.57           2                  N   \n",
              "840                 1          22.43           2                  N   \n",
              "861                 2          17.80           2                  N   \n",
              "881                 6          18.23           2                  N   \n",
              "958                 1          21.80           2                  N   \n",
              "970                 1          19.57           2                  N   \n",
              "984                 1          16.70           2                  N   \n",
              "1082                1           1.09           2                  N   \n",
              "1097                5           2.12           2                  N   \n",
              "1110                1          19.10           2                  N   \n",
              "1179                6          19.77           2                  N   \n",
              "\n",
              "      PULocationID  DOLocationID  payment_type  fare_amount  extra  mta_tax  \\\n",
              "11             236           132             1         52.0    0.0      0.5   \n",
              "110            132           163             1         52.0    0.0      0.5   \n",
              "161            132           132             2         52.0    0.0      0.5   \n",
              "247            132            79             2         52.0    0.0      0.5   \n",
              "379            132           234             1         52.0    0.0      0.5   \n",
              "388            132            48             2         52.0    4.5      0.5   \n",
              "406            228            88             2         52.0    0.0      0.5   \n",
              "449            132            48             2         52.0    0.0      0.5   \n",
              "468            186           132             2         52.0    0.0      0.5   \n",
              "520            132           148             1         52.0    0.0      0.5   \n",
              "569            132           144             1         52.0    0.0      0.5   \n",
              "572            230           161             1         52.0    0.0      0.5   \n",
              "586            211           132             1         52.0    0.0      0.5   \n",
              "692            132           170             1         52.0    0.0      0.5   \n",
              "717            132           239             1         52.0    0.0      0.5   \n",
              "719            264           264             1         52.0    4.5      0.5   \n",
              "782            163           132             1         52.0    0.0      0.5   \n",
              "816            132           170             1         52.0    0.0      0.5   \n",
              "818            132           246             1         52.0    0.0      0.5   \n",
              "835            132            48             1         52.0    0.0      0.5   \n",
              "840            132           163             2         52.0    0.0      0.5   \n",
              "861             75           132             1         52.0    0.0      0.5   \n",
              "881             68           132             2         52.0    0.0      0.5   \n",
              "958            132           261             2         52.0    0.0      0.5   \n",
              "970            132           140             1         52.0    0.0      0.5   \n",
              "984            132           230             1         52.0    4.5      0.5   \n",
              "1082           170            48             2         52.0    4.5      0.5   \n",
              "1097           265           265             2         52.0    0.0      0.5   \n",
              "1110           239           132             1         52.0    0.0      0.5   \n",
              "1179           238           132             1         52.0    0.0      0.5   \n",
              "\n",
              "      tip_amount  tolls_amount  improvement_surcharge  total_amount  \\\n",
              "11         14.58          5.54                    0.3         72.92   \n",
              "110         0.00          0.00                    0.3         52.80   \n",
              "161         0.00          0.00                    0.3         52.80   \n",
              "247         0.00          0.00                    0.3         52.80   \n",
              "379        14.64          5.76                    0.3         73.20   \n",
              "388         0.00          5.54                    0.3         62.84   \n",
              "406         0.00          5.76                    0.3         58.56   \n",
              "449         0.00          5.76                    0.3         58.56   \n",
              "468         0.00          5.76                    0.3         58.56   \n",
              "520         5.00          0.00                    0.3         57.80   \n",
              "569        10.56          0.00                    0.3         63.36   \n",
              "572        11.71          5.76                    0.3         70.27   \n",
              "586        11.71          5.76                    0.3         70.27   \n",
              "692        11.71          5.76                    0.3         70.27   \n",
              "717         5.85          5.76                    0.3         64.41   \n",
              "719        12.60          5.76                    0.3         75.66   \n",
              "782        13.20          0.00                    0.3         66.00   \n",
              "816         2.00          5.54                    0.3         60.34   \n",
              "818        11.71          5.76                    0.3         70.27   \n",
              "835        13.20          0.00                    0.3         66.00   \n",
              "840         0.00          5.76                    0.3         58.56   \n",
              "861         6.00          5.76                    0.3         64.56   \n",
              "881         0.00          0.00                    0.3         52.80   \n",
              "958         0.00          0.00                    0.3         52.80   \n",
              "970        11.67          5.54                    0.3         70.01   \n",
              "984        42.29          0.00                    0.3         99.59   \n",
              "1082        0.00          5.54                    0.3         62.84   \n",
              "1097        0.00          0.00                    0.3         52.80   \n",
              "1110       15.80          0.00                    0.3         68.60   \n",
              "1179       17.57          5.76                    0.3         76.13   \n",
              "\n",
              "        duration pickup_dropoff  mean_distance        col month  rush_hour  \\\n",
              "11    265.147222        236 132      19.211667     sunday   mar          0   \n",
              "110    52.941667        132 163      19.229000   saturday   jun          0   \n",
              "161     3.021839        132 132       2.255862   saturday   nov          0   \n",
              "247    47.275000         132 79      19.431667  wednesday   dec          0   \n",
              "379    49.833333        132 234      17.654000     sunday   sep          0   \n",
              "388    61.604762         132 48      18.761905    tuesday   feb          0   \n",
              "406    15.616667         228 88       4.730000     monday   jun          0   \n",
              "449    61.604762         132 48      18.761905   thursday   aug          0   \n",
              "468    42.920000        186 132      17.096000    tuesday   sep          0   \n",
              "520    46.340476        132 148      17.994286     sunday   apr          0   \n",
              "569    37.000000        132 144      18.537500  wednesday   nov          0   \n",
              "572     7.965591        230 161       0.685484    tuesday   jul          0   \n",
              "586    61.691667        211 132      16.580000     monday   jun          0   \n",
              "692    37.113333        132 170      17.203000    tuesday   nov          0   \n",
              "717    44.862500        132 239      20.901250  wednesday   dec          0   \n",
              "719    25.329964        264 264       3.191516     friday   aug          0   \n",
              "782   164.759722        163 132      17.275833     friday   jun          0   \n",
              "816    37.113333        132 170      17.203000    tuesday   feb          0   \n",
              "818    86.583333        132 246      18.515000    tuesday   jun          0   \n",
              "835    61.604762         132 48      18.761905    tuesday   jan          0   \n",
              "840    52.941667        132 163      19.229000     friday   oct          0   \n",
              "861    36.204167         75 132      18.442500   saturday   dec          0   \n",
              "881    63.737500         68 132      18.785000   saturday   dec          0   \n",
              "958    51.493750        132 261      22.115000     sunday   oct          0   \n",
              "970    36.791667        132 140      19.293333     friday   feb          0   \n",
              "984    60.800000        132 230      18.571200  wednesday   aug          0   \n",
              "1082   14.135965         170 48       1.265789    tuesday   feb          0   \n",
              "1097    3.411538        265 265       0.753077     monday   aug          0   \n",
              "1110   50.562500        239 132      19.795000  wednesday   sep          0   \n",
              "1179   53.861111        238 132      19.470000     monday   jun          0   \n",
              "\n",
              "            day  mean_duration  \n",
              "11       sunday     265.147222  \n",
              "110    saturday      52.941667  \n",
              "161    saturday       3.021839  \n",
              "247   wednesday      47.275000  \n",
              "379      sunday      49.833333  \n",
              "388     tuesday      61.604762  \n",
              "406      monday      15.616667  \n",
              "449    thursday      61.604762  \n",
              "468     tuesday      42.920000  \n",
              "520      sunday      46.340476  \n",
              "569   wednesday      37.000000  \n",
              "572     tuesday       7.965591  \n",
              "586      monday      61.691667  \n",
              "692     tuesday      37.113333  \n",
              "717   wednesday      44.862500  \n",
              "719      friday      25.329964  \n",
              "782      friday     164.759722  \n",
              "816     tuesday      37.113333  \n",
              "818     tuesday      86.583333  \n",
              "835     tuesday      61.604762  \n",
              "840      friday      52.941667  \n",
              "861    saturday      36.204167  \n",
              "881    saturday      63.737500  \n",
              "958      sunday      51.493750  \n",
              "970      friday      36.791667  \n",
              "984   wednesday      60.800000  \n",
              "1082    tuesday      14.135965  \n",
              "1097     monday       3.411538  \n",
              "1110  wednesday      50.562500  \n",
              "1179     monday      53.861111  "
            ]
          },
          "execution_count": 97,
          "metadata": {},
          "output_type": "execute_result"
        }
      ],
      "source": [
        "# Set pandas to display all columns\n",
        "pd.set_option('display.max_columns', None)\n",
        "df[df['fare_amount']==52].head(30)"
      ]
    },
    {
      "cell_type": "markdown",
      "metadata": {
        "id": "p5cUpkVrItF_"
      },
      "source": [
        "**Question:** What do you notice about the first 30 trips?\n",
        "\n",
        "It seems that almost all of the trips in the first 30 rows where the fare amount was $52 either begin or end at location 132, and all of them have a RatecodeID of 2.\n",
        "\n",
        "There is no readily apparent reason why PULocation 132 should have so many fares of 52 dollars. They seem to occur on all different days, at different times, with both vendors, in all months. However, there are many toll amounts of $5.76 and $5.54. This would seem to indicate that location 132 is in an area that frequently requires tolls to get to and from. It's likely this is an airport.\n",
        "\n",
        "The data dictionary says that RatecodeID of 2 indicates trips for JFK, which is John F. Kennedy International Airport. A quick Google search for \"new york city taxi flat rate $52\" indicates that in 2017 (the year that this data was collected) there was indeed a flat fare for taxi trips between JFK airport (in Queens) and Manhattan.\n",
        "\n",
        "Because RatecodeID is known from the data dictionary, the values for this rate code can be imputed back into the data after the model makes its predictions. This way you know that those data points will always be correct."
      ]
    },
    {
      "cell_type": "markdown",
      "metadata": {
        "id": "3kFRsmVPItF_"
      },
      "source": [
        "### Task 5. Isolate modeling variables\n",
        "\n",
        "Drop features that are redundant, irrelevant, or that will not be available in a deployed environment."
      ]
    },
    {
      "cell_type": "code",
      "execution_count": null,
      "metadata": {
        "id": "JH0XDWycItF_",
        "outputId": "84cb2da0-c5c4-4ff3-e2ad-971a2ee3db1e"
      },
      "outputs": [
        {
          "name": "stdout",
          "output_type": "stream",
          "text": [
            "<class 'pandas.core.frame.DataFrame'>\n",
            "Int64Index: 22699 entries, 0 to 22698\n",
            "Data columns (total 7 columns):\n",
            " #   Column           Non-Null Count  Dtype  \n",
            "---  ------           --------------  -----  \n",
            " 0   VendorID         22699 non-null  int64  \n",
            " 1   passenger_count  22699 non-null  int64  \n",
            " 2   fare_amount      22699 non-null  float64\n",
            " 3   mean_distance    22699 non-null  float64\n",
            " 4   col              22699 non-null  object \n",
            " 5   rush_hour        22699 non-null  int64  \n",
            " 6   mean_duration    22699 non-null  float64\n",
            "dtypes: float64(3), int64(3), object(1)\n",
            "memory usage: 1.9+ MB\n"
          ]
        }
      ],
      "source": [
        "df_min = df.copy()\n",
        "\n",
        "df_min = df_min.drop(['Unnamed: 0', 'tpep_dropoff_datetime', 'tpep_pickup_datetime',\n",
        "               'trip_distance', 'RatecodeID', 'store_and_fwd_flag', 'PULocationID', 'DOLocationID',\n",
        "               'payment_type', 'extra', 'mta_tax', 'tip_amount', 'tolls_amount', 'improvement_surcharge',\n",
        "               'total_amount', 'tpep_dropoff_datetime', 'tpep_pickup_datetime', 'duration',\n",
        "               'pickup_dropoff', 'day', 'month'\n",
        "               ], axis=1)\n",
        "\n",
        "df_min.info()"
      ]
    },
    {
      "cell_type": "markdown",
      "metadata": {
        "id": "GXDQeTHhItF_"
      },
      "source": [
        "### Task 6. Pair plot\n",
        "\n",
        "Create a pairplot to visualize pairwise relationships between `fare_amount`, `mean_duration`, and `mean_distance`."
      ]
    },
    {
      "cell_type": "code",
      "execution_count": null,
      "metadata": {
        "id": "rs5hRFgdItF_"
      },
      "outputs": [],
      "source": [
        "# Create a pairplot to visualize pairwise relationships between variables in the data\n",
        "\n",
        "sns.pairplot(df_min[['fare_amount', 'mean_duration', 'mean_distance']],\n",
        "             plot_kws={'alpha':0.4, 'size':5},\n",
        "             );"
      ]
    },
    {
      "cell_type": "markdown",
      "metadata": {
        "id": "zDIa0x__ItF_"
      },
      "source": [
        "These variables all show linear correlation with each other. Investigate this further."
      ]
    },
    {
      "cell_type": "markdown",
      "metadata": {
        "id": "LMD7rf-UItGA"
      },
      "source": [
        "### Task 7. Identify correlations"
      ]
    },
    {
      "cell_type": "markdown",
      "metadata": {
        "id": "gC0xagxrItGA"
      },
      "source": [
        "Next, code a correlation matrix to help determine most correlated variables."
      ]
    },
    {
      "cell_type": "code",
      "execution_count": null,
      "metadata": {
        "id": "m7s2Y-KOItGD"
      },
      "outputs": [],
      "source": [
        "# Create correlation matrix containing pairwise correlation of columns, using pearson correlation coefficient\n",
        "corrs = df_min.corr(method='pearson')"
      ]
    },
    {
      "cell_type": "markdown",
      "metadata": {
        "id": "VxKmtwI6ItGD"
      },
      "source": [
        "Visualize a correlation heatmap of the data."
      ]
    },
    {
      "cell_type": "code",
      "execution_count": null,
      "metadata": {
        "id": "Y-jYf1OLItGD",
        "outputId": "bb54f583-c325-4495-9e0f-e5e997d7cdbf"
      },
      "outputs": [
        {
          "data": {
            "image/png": "[encoded data removed]",
            "text/plain": [
              "<Figure size 432x288 with 2 Axes>"
            ]
          },
          "metadata": {},
          "output_type": "display_data"
        }
      ],
      "source": [
        "# Create correlation heatmap\n",
        "\n",
        "plt.figure(figsize=(6,4))\n",
        "sns.heatmap(corrs, annot=True, cmap='Reds')\n",
        "plt.title('Correlation heatmap',\n",
        "          fontsize=18)\n",
        "plt.show()"
      ]
    },
    {
      "cell_type": "markdown",
      "metadata": {
        "id": "8P_Or6tIItGE"
      },
      "source": [
        "**Question:** Which variable(s) are correlated with the target variable of `fare_amount`?\n",
        "\n",
        "Try modeling with both variables even though they are correlated."
      ]
    },
    {
      "cell_type": "markdown",
      "metadata": {
        "id": "P_QYzJfVUrIc"
      },
      "source": [
        "### Task 8a. Split data into outcome variable and features"
      ]
    },
    {
      "cell_type": "code",
      "execution_count": null,
      "metadata": {
        "id": "AzcDgLRET4d7",
        "outputId": "6ed65377-06cf-4c49-9270-35baee2b2a9c"
      },
      "outputs": [
        {
          "name": "stdout",
          "output_type": "stream",
          "text": [
            "<class 'pandas.core.frame.DataFrame'>\n",
            "Int64Index: 22699 entries, 0 to 22698\n",
            "Data columns (total 7 columns):\n",
            " #   Column           Non-Null Count  Dtype  \n",
            "---  ------           --------------  -----  \n",
            " 0   VendorID         22699 non-null  int64  \n",
            " 1   passenger_count  22699 non-null  int64  \n",
            " 2   fare_amount      22699 non-null  float64\n",
            " 3   mean_distance    22699 non-null  float64\n",
            " 4   col              22699 non-null  object \n",
            " 5   rush_hour        22699 non-null  int64  \n",
            " 6   mean_duration    22699 non-null  float64\n",
            "dtypes: float64(3), int64(3), object(1)\n",
            "memory usage: 1.9+ MB\n"
          ]
        }
      ],
      "source": [
        "# Remind ourselves with .info() what the data looks like now\n",
        "df_min.info()"
      ]
    },
    {
      "cell_type": "markdown",
      "metadata": {
        "id": "wExuMzpVItGE"
      },
      "source": [
        "Set your X and y variables. X represents the features and y represents the outcome (target) variable."
      ]
    },
    {
      "cell_type": "code",
      "execution_count": null,
      "metadata": {
        "id": "IEcLvGuXItGE",
        "outputId": "c899cb21-0c79-4695-e86d-11faf1e6dcab"
      },
      "outputs": [
        {
          "data": {
            "text/html": [
              "<div>\n",
              "<style scoped>\n",
              "    .dataframe tbody tr th:only-of-type {\n",
              "        vertical-align: middle;\n",
              "    }\n",
              "\n",
              "    .dataframe tbody tr th {\n",
              "        vertical-align: top;\n",
              "    }\n",
              "\n",
              "    .dataframe thead th {\n",
              "        text-align: right;\n",
              "    }\n",
              "</style>\n",
              "<table border=\"1\" class=\"dataframe\">\n",
              "  <thead>\n",
              "    <tr style=\"text-align: right;\">\n",
              "      <th></th>\n",
              "      <th>VendorID</th>\n",
              "      <th>passenger_count</th>\n",
              "      <th>mean_distance</th>\n",
              "      <th>col</th>\n",
              "      <th>rush_hour</th>\n",
              "      <th>mean_duration</th>\n",
              "    </tr>\n",
              "  </thead>\n",
              "  <tbody>\n",
              "    <tr>\n",
              "      <th>0</th>\n",
              "      <td>2</td>\n",
              "      <td>6</td>\n",
              "      <td>3.521667</td>\n",
              "      <td>saturday</td>\n",
              "      <td>0</td>\n",
              "      <td>22.847222</td>\n",
              "    </tr>\n",
              "    <tr>\n",
              "      <th>1</th>\n",
              "      <td>1</td>\n",
              "      <td>1</td>\n",
              "      <td>3.108889</td>\n",
              "      <td>tuesday</td>\n",
              "      <td>0</td>\n",
              "      <td>24.470370</td>\n",
              "    </tr>\n",
              "    <tr>\n",
              "      <th>2</th>\n",
              "      <td>1</td>\n",
              "      <td>1</td>\n",
              "      <td>0.881429</td>\n",
              "      <td>friday</td>\n",
              "      <td>0</td>\n",
              "      <td>7.250000</td>\n",
              "    </tr>\n",
              "    <tr>\n",
              "      <th>3</th>\n",
              "      <td>2</td>\n",
              "      <td>1</td>\n",
              "      <td>3.700000</td>\n",
              "      <td>sunday</td>\n",
              "      <td>0</td>\n",
              "      <td>30.250000</td>\n",
              "    </tr>\n",
              "    <tr>\n",
              "      <th>4</th>\n",
              "      <td>2</td>\n",
              "      <td>1</td>\n",
              "      <td>4.435000</td>\n",
              "      <td>saturday</td>\n",
              "      <td>0</td>\n",
              "      <td>14.616667</td>\n",
              "    </tr>\n",
              "  </tbody>\n",
              "</table>\n",
              "</div>"
            ],
            "text/plain": [
              "   VendorID  passenger_count  mean_distance       col  rush_hour  \\\n",
              "0         2                6       3.521667  saturday          0   \n",
              "1         1                1       3.108889   tuesday          0   \n",
              "2         1                1       0.881429    friday          0   \n",
              "3         2                1       3.700000    sunday          0   \n",
              "4         2                1       4.435000  saturday          0   \n",
              "\n",
              "   mean_duration  \n",
              "0      22.847222  \n",
              "1      24.470370  \n",
              "2       7.250000  \n",
              "3      30.250000  \n",
              "4      14.616667  "
            ]
          },
          "execution_count": 109,
          "metadata": {},
          "output_type": "execute_result"
        }
      ],
      "source": [
        "# Remove the target column from the features\n",
        "X = df_min.drop(columns=['fare_amount'])\n",
        "\n",
        "# Set y variable\n",
        "y = df_min[['fare_amount']]\n",
        "\n",
        "# Display first few rows\n",
        "X.head()"
      ]
    },
    {
      "cell_type": "markdown",
      "metadata": {
        "id": "o3ArC_5xa7Oi"
      },
      "source": [
        "### Pre-process data\n"
      ]
    },
    {
      "cell_type": "markdown",
      "metadata": {
        "id": "PdfTaopCcbTj"
      },
      "source": [
        "Dummy encode categorical variables"
      ]
    },
    {
      "cell_type": "code",
      "execution_count": null,
      "metadata": {
        "id": "4Y3T2poF28fP",
        "outputId": "2d75c335-6d83-4e9e-b0f2-38f305304bb6"
      },
      "outputs": [
        {
          "data": {
            "text/html": [
              "<div>\n",
              "<style scoped>\n",
              "    .dataframe tbody tr th:only-of-type {\n",
              "        vertical-align: middle;\n",
              "    }\n",
              "\n",
              "    .dataframe tbody tr th {\n",
              "        vertical-align: top;\n",
              "    }\n",
              "\n",
              "    .dataframe thead th {\n",
              "        text-align: right;\n",
              "    }\n",
              "</style>\n",
              "<table border=\"1\" class=\"dataframe\">\n",
              "  <thead>\n",
              "    <tr style=\"text-align: right;\">\n",
              "      <th></th>\n",
              "      <th>passenger_count</th>\n",
              "      <th>mean_distance</th>\n",
              "      <th>rush_hour</th>\n",
              "      <th>mean_duration</th>\n",
              "      <th>VendorID_2</th>\n",
              "      <th>col_monday</th>\n",
              "      <th>col_saturday</th>\n",
              "      <th>col_sunday</th>\n",
              "      <th>col_thursday</th>\n",
              "      <th>col_tuesday</th>\n",
              "      <th>col_wednesday</th>\n",
              "    </tr>\n",
              "  </thead>\n",
              "  <tbody>\n",
              "    <tr>\n",
              "      <th>0</th>\n",
              "      <td>6</td>\n",
              "      <td>3.521667</td>\n",
              "      <td>0</td>\n",
              "      <td>22.847222</td>\n",
              "      <td>1</td>\n",
              "      <td>0</td>\n",
              "      <td>1</td>\n",
              "      <td>0</td>\n",
              "      <td>0</td>\n",
              "      <td>0</td>\n",
              "      <td>0</td>\n",
              "    </tr>\n",
              "    <tr>\n",
              "      <th>1</th>\n",
              "      <td>1</td>\n",
              "      <td>3.108889</td>\n",
              "      <td>0</td>\n",
              "      <td>24.470370</td>\n",
              "      <td>0</td>\n",
              "      <td>0</td>\n",
              "      <td>0</td>\n",
              "      <td>0</td>\n",
              "      <td>0</td>\n",
              "      <td>1</td>\n",
              "      <td>0</td>\n",
              "    </tr>\n",
              "    <tr>\n",
              "      <th>2</th>\n",
              "      <td>1</td>\n",
              "      <td>0.881429</td>\n",
              "      <td>0</td>\n",
              "      <td>7.250000</td>\n",
              "      <td>0</td>\n",
              "      <td>0</td>\n",
              "      <td>0</td>\n",
              "      <td>0</td>\n",
              "      <td>0</td>\n",
              "      <td>0</td>\n",
              "      <td>0</td>\n",
              "    </tr>\n",
              "    <tr>\n",
              "      <th>3</th>\n",
              "      <td>1</td>\n",
              "      <td>3.700000</td>\n",
              "      <td>0</td>\n",
              "      <td>30.250000</td>\n",
              "      <td>1</td>\n",
              "      <td>0</td>\n",
              "      <td>0</td>\n",
              "      <td>1</td>\n",
              "      <td>0</td>\n",
              "      <td>0</td>\n",
              "      <td>0</td>\n",
              "    </tr>\n",
              "    <tr>\n",
              "      <th>4</th>\n",
              "      <td>1</td>\n",
              "      <td>4.435000</td>\n",
              "      <td>0</td>\n",
              "      <td>14.616667</td>\n",
              "      <td>1</td>\n",
              "      <td>0</td>\n",
              "      <td>1</td>\n",
              "      <td>0</td>\n",
              "      <td>0</td>\n",
              "      <td>0</td>\n",
              "      <td>0</td>\n",
              "    </tr>\n",
              "  </tbody>\n",
              "</table>\n",
              "</div>"
            ],
            "text/plain": [
              "   passenger_count  mean_distance  rush_hour  mean_duration  VendorID_2  \\\n",
              "0                6       3.521667          0      22.847222           1   \n",
              "1                1       3.108889          0      24.470370           0   \n",
              "2                1       0.881429          0       7.250000           0   \n",
              "3                1       3.700000          0      30.250000           1   \n",
              "4                1       4.435000          0      14.616667           1   \n",
              "\n",
              "   col_monday  col_saturday  col_sunday  col_thursday  col_tuesday  \\\n",
              "0           0             1           0             0            0   \n",
              "1           0             0           0             0            1   \n",
              "2           0             0           0             0            0   \n",
              "3           0             0           1             0            0   \n",
              "4           0             1           0             0            0   \n",
              "\n",
              "   col_wednesday  \n",
              "0              0  \n",
              "1              0  \n",
              "2              0  \n",
              "3              0  \n",
              "4              0  "
            ]
          },
          "execution_count": 112,
          "metadata": {},
          "output_type": "execute_result"
        }
      ],
      "source": [
        "# Convert VendorID to string\n",
        "X['VendorID'] = X['VendorID'].astype(str)\n",
        "\n",
        "# Get dummies\n",
        "X = pd.get_dummies(X, drop_first=True)\n",
        "X.head()"
      ]
    },
    {
      "cell_type": "markdown",
      "metadata": {
        "id": "czd1-gk4ItGF"
      },
      "source": [
        "### Split data into training and test sets"
      ]
    },
    {
      "cell_type": "markdown",
      "metadata": {
        "id": "0I8PChR6ItGF"
      },
      "source": [
        "Create training and testing sets. The test set should contain 20% of the total samples. Set `random_state=0`."
      ]
    },
    {
      "cell_type": "code",
      "execution_count": null,
      "metadata": {
        "id": "A2BNUvacwaZY"
      },
      "outputs": [],
      "source": [
        "# Create training and testing sets\n",
        "\n",
        "X_train, X_test, y_train, y_test = train_test_split(X, y, test_size=0.2, random_state=0)\n"
      ]
    },
    {
      "cell_type": "markdown",
      "metadata": {
        "id": "iDYyjWssbnBG"
      },
      "source": [
        "### Standardize the data\n",
        "\n",
        "Use `StandardScaler()`, `fit()`, and `transform()` to standardize the `X_train` variables. Assign the results to a variable called `X_train_scaled`."
      ]
    },
    {
      "cell_type": "code",
      "execution_count": null,
      "metadata": {
        "id": "FKzUYoDJItGF",
        "outputId": "66e72fa7-16b1-44de-a9e4-d6a250cc5459"
      },
      "outputs": [
        {
          "name": "stdout",
          "output_type": "stream",
          "text": [
            "X_train scaled: [[-0.50301524  0.8694684   0.         ... -0.41773627 -0.40271081\n",
            "  -0.42127632]\n",
            " [-0.50301524 -0.60011281  0.         ... -0.41773627 -0.40271081\n",
            "  -0.42127632]\n",
            " [ 0.27331093 -0.47829156  0.         ... -0.41773627 -0.40271081\n",
            "  -0.42127632]\n",
            " ...\n",
            " [-0.50301524 -0.45121122  0.         ... -0.41773627 -0.40271081\n",
            "   2.37373892]\n",
            " [-0.50301524 -0.58944763  0.         ... -0.41773627  2.48317146\n",
            "  -0.42127632]\n",
            " [ 1.82596329  0.83673851  0.         ... -0.41773627 -0.40271081\n",
            "  -0.42127632]]\n"
          ]
        }
      ],
      "source": [
        "# Standardize the X variables\n",
        "scaler = StandardScaler().fit(X_train)\n",
        "X_train_scaled = scaler.transform(X_train)\n",
        "print('X_train scaled:', X_train_scaled)"
      ]
    },
    {
      "cell_type": "markdown",
      "metadata": {
        "id": "wk0rjKeO3JLv"
      },
      "source": [
        "### Fit the model\n",
        "\n",
        "Instantiate your model and fit it to the training data."
      ]
    },
    {
      "cell_type": "code",
      "execution_count": null,
      "metadata": {
        "id": "SClNm5hWotj6",
        "outputId": "111da94c-7460-4cfe-8dc2-75eaf5897733"
      },
      "outputs": [
        {
          "data": {
            "text/plain": [
              "LinearRegression(copy_X=True, fit_intercept=True, n_jobs=None, normalize=False)"
            ]
          },
          "execution_count": 116,
          "metadata": {},
          "output_type": "execute_result"
        }
      ],
      "source": [
        "# Fit your model to the training data\n",
        "lr=LinearRegression()\n",
        "lr.fit(X_train_scaled, y_train)"
      ]
    },
    {
      "cell_type": "markdown",
      "metadata": {
        "id": "HMj6QkK1cLmS"
      },
      "source": [
        "### Evaluate model"
      ]
    },
    {
      "cell_type": "markdown",
      "metadata": {
        "id": "AromLx7t5hjt"
      },
      "source": [
        "### Train data\n",
        "\n",
        "Evaluate your model performance by calculating the residual sum of squares and the explained variance score (R^2). Calculate the Mean Absolute Error, Mean Squared Error, and the Root Mean Squared Error."
      ]
    },
    {
      "cell_type": "code",
      "execution_count": null,
      "metadata": {
        "id": "33rE1x9e3U6t",
        "outputId": "b56f6f94-d815-40d6-e8ec-59ca6b1cc371"
      },
      "outputs": [
        {
          "name": "stdout",
          "output_type": "stream",
          "text": [
            "R² Score: 0.8247660264397495\n",
            "MAE: 2.4940392811002465\n",
            "MSE: 19.57390540437124\n",
            "RMSE: 4.424240658505281\n"
          ]
        }
      ],
      "source": [
        "# Evaluate the model performance on the training data\n",
        "r2 = lr.score(X_train_scaled, y_train)\n",
        "y_pred = lr.predict(X_train_scaled)\n",
        "\n",
        "print(f\"R² Score: {r2}\")\n",
        "print('MAE:', mean_absolute_error(y_train, y_pred))\n",
        "print('MSE:', mean_squared_error(y_train, y_pred))\n",
        "print('RMSE:',np.sqrt(mean_squared_error(y_train, y_pred)))"
      ]
    },
    {
      "cell_type": "markdown",
      "metadata": {
        "id": "Te6PXGXrItGJ"
      },
      "source": [
        "### Test data\n",
        "\n",
        "Calculate the same metrics on the test data. Remember to scale the `X_test` data using the scaler that was fit to the training data. Do not refit the scaler to the testing data, just transform it. Call the results `X_test_scaled`."
      ]
    },
    {
      "cell_type": "code",
      "execution_count": null,
      "metadata": {
        "id": "7ld9O61dItGK"
      },
      "outputs": [],
      "source": [
        "# Scale the X_test data\n",
        "X_test_scaled = scaler.transform(X_test)"
      ]
    },
    {
      "cell_type": "code",
      "execution_count": null,
      "metadata": {
        "id": "P5nXSpRCVXq6",
        "outputId": "f9d784bb-4e63-4f7e-ec71-f56ce5e78ddc"
      },
      "outputs": [
        {
          "name": "stdout",
          "output_type": "stream",
          "text": [
            "R^2: 0.8525895738007496\n",
            "MAE: 2.435537832453579\n",
            "MSE: 16.030381739645453\n",
            "RMSE: 4.003795916333081\n"
          ]
        }
      ],
      "source": [
        "# Evaluate the model performance on the testing data\n",
        "y_pred = lr.predict(X_test_scaled)\n",
        "\n",
        "print('R^2:', r2_score(y_test, y_pred))\n",
        "print('MAE:', mean_absolute_error(y_test,y_pred))\n",
        "print('MSE:', mean_squared_error(y_test, y_pred))\n",
        "print('RMSE:',np.sqrt(mean_squared_error(y_test, y_pred)))"
      ]
    },
    {
      "cell_type": "markdown",
      "metadata": {
        "id": "F_l3bkxQdJ3a"
      },
      "source": [
        "### Results\n",
        "\n",
        "Use the code cell below to get `actual`,`predicted`, and `residual` for the testing set, and store them as columns in a `results` dataframe."
      ]
    },
    {
      "cell_type": "code",
      "execution_count": null,
      "metadata": {
        "id": "cSl5gbXfBPBN"
      },
      "outputs": [],
      "source": [
        "# Create a `results` dataframe\n",
        "results = pd.DataFrame()\n",
        "results['actual'] = y_test['fare_amount']\n",
        "results['predicted'] = y_pred\n",
        "results['residual'] = results['actual'] - results['predicted']\n"
      ]
    },
    {
      "cell_type": "markdown",
      "metadata": {
        "id": "mwRmSDS3eyeH"
      },
      "source": [
        "### Visualize model results"
      ]
    },
    {
      "cell_type": "markdown",
      "metadata": {
        "id": "y3vQ-mB51dfd"
      },
      "source": [
        "Create a scatterplot to visualize `actual` vs. `predicted`."
      ]
    },
    {
      "cell_type": "code",
      "execution_count": null,
      "metadata": {
        "id": "IBFU_dicBjwQ",
        "outputId": "7448ee72-6695-4fb8-ba03-8a2e052c9e5b"
      },
      "outputs": [
        {
          "data": {
            "image/png": "[encoded data removed]",
            "text/plain": [
              "<Figure size 432x432 with 1 Axes>"
            ]
          },
          "metadata": {},
          "output_type": "display_data"
        }
      ],
      "source": [
        "# Create a scatterplot to visualize `predicted` over `actual`\n",
        "fig, ax = plt.subplots(figsize=(6, 6))\n",
        "sns.set(style='whitegrid')\n",
        "sns.scatterplot(x='actual',\n",
        "                y='predicted',\n",
        "                data=results,\n",
        "                s=20,\n",
        "                alpha=0.5,\n",
        "                ax=ax\n",
        ")\n",
        "x_vals = np.array(ax.get_xlim())\n",
        "ax.plot(x_vals, x_vals, color='red', linewidth=2)\n",
        "\n",
        "plt.title('Actual vs. predicted');"
      ]
    },
    {
      "cell_type": "markdown",
      "metadata": {
        "id": "IbO71S_R9IcY"
      },
      "source": [
        "Visualize the distribution of the `residuals` using a histogram."
      ]
    },
    {
      "cell_type": "code",
      "execution_count": null,
      "metadata": {
        "id": "3a0UYoEr9Nx6",
        "outputId": "e8514ccd-4eaa-481e-daf1-91d430feba83"
      },
      "outputs": [
        {
          "data": {
            "text/plain": [
              "Text(0.5, 1.0, 'Distribution of residuals')"
            ]
          },
          "execution_count": 140,
          "metadata": {},
          "output_type": "execute_result"
        },
        {
          "data": {
            "image/png": "[encoded data removed]",
            "text/plain": [
              "<Figure size 432x288 with 1 Axes>"
            ]
          },
          "metadata": {},
          "output_type": "display_data"
        }
      ],
      "source": [
        "# Visualize the distribution of the `residuals`\n",
        "sns.histplot(results['residual'], bins=np.arange(-15,15.5,0.5))\n",
        "\n",
        "plt.title('Distribution of residuals')"
      ]
    },
    {
      "cell_type": "code",
      "execution_count": null,
      "metadata": {
        "id": "mQvGMX_3ItGO",
        "outputId": "550856cb-1e15-4309-a9a2-b3ad48f6c25e"
      },
      "outputs": [
        {
          "data": {
            "text/plain": [
              "0.004449208089412602"
            ]
          },
          "execution_count": 142,
          "metadata": {},
          "output_type": "execute_result"
        }
      ],
      "source": [
        "# Calculate residual mean\n",
        "mean_residual = results['residual'].mean()\n",
        "mean_residual"
      ]
    },
    {
      "cell_type": "markdown",
      "metadata": {
        "id": "OCnELck-9h5M"
      },
      "source": [
        "Create a scatterplot of `residuals` over `predicted`."
      ]
    },
    {
      "cell_type": "code",
      "execution_count": null,
      "metadata": {
        "id": "7Kmr2U8A95fY",
        "outputId": "886b95cf-1b8f-4326-c437-62cd8f935052"
      },
      "outputs": [
        {
          "data": {
            "text/plain": [
              "<matplotlib.axes._subplots.AxesSubplot at 0x7c80c7b1b750>"
            ]
          },
          "execution_count": 143,
          "metadata": {},
          "output_type": "execute_result"
        },
        {
          "data": {
            "image/png": "[encoded data removed]",
            "text/plain": [
              "<Figure size 432x288 with 1 Axes>"
            ]
          },
          "metadata": {},
          "output_type": "display_data"
        }
      ],
      "source": [
        "# Create a scatterplot of `residuals` over `predicted`\n",
        "sns.scatterplot(x=results['predicted'], y=results['residual'])\n"
      ]
    },
    {
      "cell_type": "markdown",
      "metadata": {
        "id": "cRFquiClItGO"
      },
      "source": [
        "### Coefficients\n",
        "\n",
        "The coefficients are output in the order of the features that were used to train the model. Which feature had the greatest effect on trip fare?"
      ]
    },
    {
      "cell_type": "code",
      "execution_count": null,
      "metadata": {
        "id": "VM3E4sYhItGO",
        "outputId": "379f0c3d-515d-4733-a126-f86e9e2d72b8"
      },
      "outputs": [
        {
          "data": {
            "text/html": [
              "<div>\n",
              "<style scoped>\n",
              "    .dataframe tbody tr th:only-of-type {\n",
              "        vertical-align: middle;\n",
              "    }\n",
              "\n",
              "    .dataframe tbody tr th {\n",
              "        vertical-align: top;\n",
              "    }\n",
              "\n",
              "    .dataframe thead th {\n",
              "        text-align: right;\n",
              "    }\n",
              "</style>\n",
              "<table border=\"1\" class=\"dataframe\">\n",
              "  <thead>\n",
              "    <tr style=\"text-align: right;\">\n",
              "      <th></th>\n",
              "      <th>passenger_count</th>\n",
              "      <th>mean_distance</th>\n",
              "      <th>rush_hour</th>\n",
              "      <th>mean_duration</th>\n",
              "      <th>VendorID_2</th>\n",
              "      <th>col_monday</th>\n",
              "      <th>col_saturday</th>\n",
              "      <th>col_sunday</th>\n",
              "      <th>col_thursday</th>\n",
              "      <th>col_tuesday</th>\n",
              "      <th>col_wednesday</th>\n",
              "    </tr>\n",
              "  </thead>\n",
              "  <tbody>\n",
              "    <tr>\n",
              "      <th>0</th>\n",
              "      <td>0.043823</td>\n",
              "      <td>9.462373</td>\n",
              "      <td>-8.881784e-16</td>\n",
              "      <td>0.347798</td>\n",
              "      <td>-0.065511</td>\n",
              "      <td>-0.193826</td>\n",
              "      <td>-0.161863</td>\n",
              "      <td>-0.261602</td>\n",
              "      <td>0.041253</td>\n",
              "      <td>0.005653</td>\n",
              "      <td>-0.036941</td>\n",
              "    </tr>\n",
              "  </tbody>\n",
              "</table>\n",
              "</div>"
            ],
            "text/plain": [
              "   passenger_count  mean_distance     rush_hour  mean_duration  VendorID_2  \\\n",
              "0         0.043823       9.462373 -8.881784e-16       0.347798   -0.065511   \n",
              "\n",
              "   col_monday  col_saturday  col_sunday  col_thursday  col_tuesday  \\\n",
              "0   -0.193826     -0.161863   -0.261602      0.041253     0.005653   \n",
              "\n",
              "   col_wednesday  \n",
              "0      -0.036941  "
            ]
          },
          "execution_count": 150,
          "metadata": {},
          "output_type": "execute_result"
        }
      ],
      "source": [
        "# Output the model's coefficients\n",
        "coefs = pd.DataFrame(lr.coef_, columns=X.columns)\n",
        "coefs"
      ]
    },
    {
      "cell_type": "markdown",
      "metadata": {
        "id": "ZmGQUTg9ItGO"
      },
      "source": [
        "What do these coefficients mean? How should they be interpreted?"
      ]
    },
    {
      "cell_type": "markdown",
      "metadata": {
        "id": "Dk3WN0x1ItGO"
      },
      "source": [
        "It means the trip distance has by far the biggest impact on fare amount."
      ]
    },
    {
      "cell_type": "code",
      "execution_count": null,
      "metadata": {
        "id": "-elJRt8dItGP",
        "outputId": "77b076bf-44ff-407f-cf48-b514b61e5924"
      },
      "outputs": [
        {
          "data": {
            "text/plain": [
              "'The coefficients reveal that mean_distance was the feature with the greatest weight in the model\\'s final prediction. Be careful here! A common misinterpretation is that for every mile traveled, the fare amount increases by a mean of $7.13. This is incorrect. Remember, the data used to train the model was standardized with StandardScaler(). As such, the units are no longer miles. In other words, you cannot say \"for every mile traveled...\", as stated above. The correct interpretation of this coefficient is: controlling for other variables, for every +1 change in standard deviation, the fare amount increases by a mean of $7.13.\\n\\n\\n\\nNote also that because some highly correlated features were not removed, the confidence interval of this assessment is wider.\\n\\n\\n\\nSo, translate this back to miles instead of standard deviation (i.e., unscale the data).\\n\\n\\n\\nCalculate the standard deviation of mean_distance in the X_train data.\\n\\n\\n\\nDivide the coefficient (7.133867) by the result to yield a more intuitive interpretation.'"
            ]
          },
          "execution_count": 155,
          "metadata": {},
          "output_type": "execute_result"
        }
      ],
      "source": [
        "\"\"\"The coefficients reveal that mean_distance was the feature with the greatest weight in the model's final prediction. Be careful here! A common misinterpretation is that for every mile traveled, the fare amount increases by a mean of $7.13. This is incorrect. Remember, the data used to train the model was standardized with StandardScaler(). As such, the units are no longer miles. In other words, you cannot say \"for every mile traveled...\", as stated above. The correct interpretation of this coefficient is: controlling for other variables, for every +1 change in standard deviation, the fare amount increases by a mean of $7.13.\\n\n",
        "\\n\n",
        "Note also that because some highly correlated features were not removed, the confidence interval of this assessment is wider.\n",
        "\\n\\n\n",
        "So, translate this back to miles instead of standard deviation (i.e., unscale the data).\n",
        "\\n\\n\n",
        "Calculate the standard deviation of mean_distance in the X_train data.\n",
        "\\n\\n\n",
        "Divide the coefficient (7.133867) by the result to yield a more intuitive interpretation.\"\"\""
      ]
    },
    {
      "cell_type": "code",
      "execution_count": null,
      "metadata": {
        "id": "zh5LelFJItGP",
        "outputId": "b1d2575d-0a6a-47fc-c511-b280895e88ee"
      },
      "outputs": [
        {
          "name": "stdout",
          "output_type": "stream",
          "text": [
            "3.574812975256415\n",
            "1.9955916713344426\n"
          ]
        }
      ],
      "source": [
        "# 1. Calculate SD of `mean_distance` in X_train data\n",
        "print(X_train['mean_distance'].std())\n",
        "\n",
        "# 2. Divide the model coefficient by the standard deviation\n",
        "print(7.133867 / X_train['mean_distance'].std())"
      ]
    },
    {
      "cell_type": "markdown",
      "metadata": {
        "id": "P6AlDDyhdzmG"
      },
      "source": [
        "### Conclusion\n",
        "\n",
        "1. What are the key takeaways from this notebook?\n",
        "\n",
        "\n",
        "\n",
        "2. What results can be presented from this notebook?\n",
        "\n"
      ]
    },
    {
      "cell_type": "markdown",
      "metadata": {
        "id": "r5VQBKG4ItGP"
      },
      "source": [
        "Key take-away is that trip distance is by far the most instrumental to fare amount. Also, for every 2 miles traveled, we tend to have a 1 dollar increase in the fare amount.\n",
        "\n",
        "We can present many of the visuals we used with accompanying metrics. The entire bottom half of the notebook is quite presentable and could be polished by focussing on the visuals, selected metrics, and explanations.\n"
      ]
    },
    {
      "cell_type": "markdown",
      "metadata": {
        "id": "Y6_1K_t4ItGP"
      },
      "source": [
        "\n",
        "Thank you for taking the time to review this notebook. I hope it provided valuable insights into both my technical skills and approach to problem-solving. If you have any questions or would like to discuss any aspect further, I’d be happy to connect!\n",
        "\n",
        "Best regards,  \n",
        "*Ralph*"
      ]
    },
    {
      "cell_type": "code",
      "source": [],
      "metadata": {
        "id": "s9PVgdFQ3Kw2"
      },
      "execution_count": null,
      "outputs": []
    }
  ],
  "metadata": {
    "colab": {
      "provenance": [],
      "include_colab_link": true
    },
    "kernelspec": {
      "display_name": "Python 3",
      "language": "python",
      "name": "python3"
    },
    "language_info": {
      "codemirror_mode": {
        "name": "ipython",
        "version": 3
      },
      "file_extension": ".py",
      "mimetype": "text/x-python",
      "name": "python",
      "nbconvert_exporter": "python",
      "pygments_lexer": "ipython3",
      "version": "3.7.6"
    }
  },
  "nbformat": 4,
  "nbformat_minor": 0
}
